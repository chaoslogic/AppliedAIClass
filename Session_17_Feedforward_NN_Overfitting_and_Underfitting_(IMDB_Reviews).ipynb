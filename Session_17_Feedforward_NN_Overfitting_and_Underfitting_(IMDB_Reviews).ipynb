{
  "nbformat": 4,
  "nbformat_minor": 0,
  "metadata": {
    "colab": {
      "name": "Session 17: Feedforward NN: Overfitting and Underfitting (IMDB Reviews).ipynb",
      "provenance": [],
      "collapsed_sections": []
    },
    "kernelspec": {
      "name": "python3",
      "display_name": "Python 3"
    }
  },
  "cells": [
    {
      "cell_type": "markdown",
      "metadata": {
        "id": "B_Zky0ZFvTyO"
      },
      "source": [
        "# **Feedforward NN: Overfitting and Underfitting**\n",
        "\n",
        "---\n",
        "\n",
        "\n",
        "\n",
        "\n",
        "## PY599 (Fall 2018): Applied Artificial Intelligence\n",
        "## NC State University\n",
        "###Dr. Behnam Kia\n",
        "### https://appliedai.wordpress.ncsu.edu/\n",
        "\n",
        "\n",
        "**Disclaimer**: Please note that these codes are simplified version of the algorithms, and they may not give the best, or expected performance that you could possibly get from these algorithms. The aim of this notebook is to help you understand the basics and the essence of these algorithms, and experiment with them. These basic codes are not deployment-ready or free-of-errors for real-world applications. To learn more about these algorithms please refer to text books that specifically study these algorithms, or contact me. - Behnam Kia"
      ]
    },
    {
      "cell_type": "markdown",
      "metadata": {
        "id": "EBFtFBe5vfM_"
      },
      "source": [
        "**Majority of the code in this colab notebook is from: \"Deep Learning with Python,\" Francois Chollet. Please see book's github at: https://github.com/fchollet/deep-learning-with-python-notebooks Code are editted by me for Applied AI class. - Behnam Kia**"
      ]
    },
    {
      "cell_type": "markdown",
      "metadata": {
        "id": "crw7jU3jvPIx"
      },
      "source": [
        "## Overfitting"
      ]
    },
    {
      "cell_type": "code",
      "metadata": {
        "id": "bnQ2Xov7Ylj6"
      },
      "source": [
        "from keras.datasets import imdb\n",
        "\n",
        "(train_data, train_labels), (test_data, test_labels) = imdb.load_data(num_words=10000)"
      ],
      "execution_count": null,
      "outputs": []
    },
    {
      "cell_type": "code",
      "metadata": {
        "id": "BP6iU_9XY52A"
      },
      "source": [
        "import numpy as np\n",
        "\n",
        "def vectorize_sequences(sequences, dimension=10000):\n",
        "    # Create an all-zero matrix of shape (len(sequences), dimension)\n",
        "    results = np.zeros((len(sequences), dimension))\n",
        "    for i, sequence in enumerate(sequences):\n",
        "        results[i, sequence] = 1.  # set specific indices of results[i] to 1s\n",
        "    return results\n",
        "\n",
        "# Our vectorized training data\n",
        "x_train = vectorize_sequences(train_data)\n",
        "# Our vectorized test data\n",
        "x_test = vectorize_sequences(test_data)"
      ],
      "execution_count": null,
      "outputs": []
    },
    {
      "cell_type": "code",
      "metadata": {
        "id": "dXbYCuOtZPNO",
        "colab": {
          "base_uri": "https://localhost:8080/",
          "height": 76
        },
        "outputId": "9102fe03-1e88-435b-d25d-e9caaf9956f6"
      },
      "source": [
        "x_train.shape"
      ],
      "execution_count": null,
      "outputs": [
        {
          "output_type": "execute_result",
          "data": {
            "text/plain": [
              "(25000, 10000)"
            ]
          },
          "metadata": {
            "tags": []
          },
          "execution_count": 50
        }
      ]
    },
    {
      "cell_type": "code",
      "metadata": {
        "id": "KYxyEK8IbkFY"
      },
      "source": [
        "y_train = np.asarray(train_labels).astype('float32')\n",
        "y_test = np.asarray(test_labels).astype('float32')"
      ],
      "execution_count": null,
      "outputs": []
    },
    {
      "cell_type": "code",
      "metadata": {
        "id": "WL2Pu5Y0ZNve"
      },
      "source": [
        "from keras import models\n",
        "from keras import layers\n",
        "\n",
        "model = models.Sequential()\n",
        "model.add(layers.Dense(16, activation='relu', input_shape=(10000,)))\n",
        "model.add(layers.Dense(16, activation='relu'))\n",
        "model.add(layers.Dense(1, activation='sigmoid'))"
      ],
      "execution_count": null,
      "outputs": []
    },
    {
      "cell_type": "code",
      "metadata": {
        "id": "0HzhdOhjbqlE"
      },
      "source": [
        "from keras import losses\n",
        "from keras import metrics\n",
        "from keras import optimizers\n",
        "\n",
        "model.compile(optimizer=optimizers.RMSprop(lr=0.001),\n",
        "              loss='binary_crossentropy',\n",
        "              metrics=['accuracy'])"
      ],
      "execution_count": null,
      "outputs": []
    },
    {
      "cell_type": "code",
      "metadata": {
        "id": "R-7RG3PAb9dr"
      },
      "source": [
        "x_val = x_train[:10000]\n",
        "partial_x_train = x_train[10000:]\n",
        "\n",
        "y_val = y_train[:10000]\n",
        "partial_y_train = y_train[10000:]"
      ],
      "execution_count": null,
      "outputs": []
    },
    {
      "cell_type": "code",
      "metadata": {
        "id": "VTpSj_PMcCXE",
        "colab": {
          "base_uri": "https://localhost:8080/",
          "height": 1007
        },
        "outputId": "74d1a703-058a-423d-8982-d322368148be"
      },
      "source": [
        "history = model.fit(partial_x_train,\n",
        "                    partial_y_train,\n",
        "                    epochs=20,\n",
        "                    batch_size=512,\n",
        "                    validation_data=(x_val, y_val))"
      ],
      "execution_count": null,
      "outputs": [
        {
          "output_type": "stream",
          "text": [
            "Train on 15000 samples, validate on 10000 samples\n",
            "Epoch 1/20\n",
            "15000/15000 [==============================] - 3s 187us/step - loss: 0.5048 - acc: 0.7872 - val_loss: 0.3775 - val_acc: 0.8703\n",
            "Epoch 2/20\n",
            "15000/15000 [==============================] - 3s 173us/step - loss: 0.2991 - acc: 0.9048 - val_loss: 0.3000 - val_acc: 0.8897\n",
            "Epoch 3/20\n",
            "15000/15000 [==============================] - 3s 173us/step - loss: 0.2173 - acc: 0.9284 - val_loss: 0.3083 - val_acc: 0.8716\n",
            "Epoch 4/20\n",
            "15000/15000 [==============================] - 3s 179us/step - loss: 0.1747 - acc: 0.9437 - val_loss: 0.2827 - val_acc: 0.8843\n",
            "Epoch 5/20\n",
            "15000/15000 [==============================] - 3s 173us/step - loss: 0.1422 - acc: 0.9541 - val_loss: 0.2855 - val_acc: 0.8858\n",
            "Epoch 6/20\n",
            "15000/15000 [==============================] - 3s 169us/step - loss: 0.1147 - acc: 0.9652 - val_loss: 0.3143 - val_acc: 0.8780\n",
            "Epoch 7/20\n",
            "15000/15000 [==============================] - 3s 167us/step - loss: 0.0977 - acc: 0.9709 - val_loss: 0.3131 - val_acc: 0.8843\n",
            "Epoch 8/20\n",
            "15000/15000 [==============================] - 2s 167us/step - loss: 0.0805 - acc: 0.9763 - val_loss: 0.3864 - val_acc: 0.8654\n",
            "Epoch 9/20\n",
            "15000/15000 [==============================] - 2s 166us/step - loss: 0.0660 - acc: 0.9820 - val_loss: 0.3640 - val_acc: 0.8778\n",
            "Epoch 10/20\n",
            "15000/15000 [==============================] - 2s 164us/step - loss: 0.0565 - acc: 0.9850 - val_loss: 0.3852 - val_acc: 0.8793\n",
            "Epoch 11/20\n",
            "15000/15000 [==============================] - 2s 166us/step - loss: 0.0426 - acc: 0.9907 - val_loss: 0.4131 - val_acc: 0.8783\n",
            "Epoch 12/20\n",
            "15000/15000 [==============================] - 2s 165us/step - loss: 0.0375 - acc: 0.9920 - val_loss: 0.4612 - val_acc: 0.8680\n",
            "Epoch 13/20\n",
            "15000/15000 [==============================] - 2s 164us/step - loss: 0.0299 - acc: 0.9929 - val_loss: 0.4719 - val_acc: 0.8738\n",
            "Epoch 14/20\n",
            "15000/15000 [==============================] - 2s 165us/step - loss: 0.0249 - acc: 0.9945 - val_loss: 0.5054 - val_acc: 0.8723\n",
            "Epoch 15/20\n",
            "15000/15000 [==============================] - 2s 165us/step - loss: 0.0201 - acc: 0.9967 - val_loss: 0.5325 - val_acc: 0.8714\n",
            "Epoch 16/20\n",
            "15000/15000 [==============================] - 2s 165us/step - loss: 0.0143 - acc: 0.9983 - val_loss: 0.5705 - val_acc: 0.8689\n",
            "Epoch 17/20\n",
            "15000/15000 [==============================] - 2s 165us/step - loss: 0.0146 - acc: 0.9975 - val_loss: 0.6027 - val_acc: 0.8671\n",
            "Epoch 18/20\n",
            "15000/15000 [==============================] - 2s 166us/step - loss: 0.0104 - acc: 0.9981 - val_loss: 0.6321 - val_acc: 0.8672\n",
            "Epoch 19/20\n",
            "15000/15000 [==============================] - 2s 165us/step - loss: 0.0057 - acc: 0.9999 - val_loss: 0.7023 - val_acc: 0.8592\n",
            "Epoch 20/20\n",
            "15000/15000 [==============================] - 2s 166us/step - loss: 0.0082 - acc: 0.9985 - val_loss: 0.6923 - val_acc: 0.8657\n"
          ],
          "name": "stdout"
        }
      ]
    },
    {
      "cell_type": "code",
      "metadata": {
        "id": "bbnHDkBjc26F",
        "colab": {
          "base_uri": "https://localhost:8080/",
          "height": 76
        },
        "outputId": "0d88ce7c-3bd1-417e-ef92-92ab478f9b7a"
      },
      "source": [
        "history_dict = history.history\n",
        "history_dict.keys()"
      ],
      "execution_count": null,
      "outputs": [
        {
          "output_type": "execute_result",
          "data": {
            "text/plain": [
              "dict_keys(['val_loss', 'val_acc', 'loss', 'acc'])"
            ]
          },
          "metadata": {
            "tags": []
          },
          "execution_count": 56
        }
      ]
    },
    {
      "cell_type": "code",
      "metadata": {
        "id": "8dCtaKeqc7NF",
        "colab": {
          "base_uri": "https://localhost:8080/",
          "height": 396
        },
        "outputId": "9a291cc1-8790-45a9-9af6-468f95e174f7"
      },
      "source": [
        "\n",
        "\n",
        "import matplotlib.pyplot as plt\n",
        "\n",
        "acc = history.history['acc']\n",
        "val_acc = history.history['val_acc']\n",
        "loss = history.history['loss']\n",
        "val_loss = history.history['val_loss']\n",
        "\n",
        "epochs = range(1, len(acc) + 1)\n",
        "\n",
        "# \"bo\" is for \"blue dot\"\n",
        "plt.plot(epochs, loss, 'bo', label='Training loss')\n",
        "# b is for \"solid blue line\"\n",
        "plt.plot(epochs, val_loss, 'b', label='Validation loss')\n",
        "plt.title('Training and validation loss')\n",
        "plt.xlabel('Epochs')\n",
        "plt.ylabel('Loss')\n",
        "plt.legend()\n",
        "\n",
        "plt.show()\n",
        "\n"
      ],
      "execution_count": null,
      "outputs": [
        {
          "output_type": "display_data",
          "data": {
            "image/png": "[encoded data removed]",
            "text/plain": [
              "<matplotlib.figure.Figure at 0x7fd909626fd0>"
            ]
          },
          "metadata": {
            "tags": []
          }
        }
      ]
    },
    {
      "cell_type": "code",
      "metadata": {
        "id": "vNlmHmB4dFyV",
        "colab": {
          "base_uri": "https://localhost:8080/",
          "height": 376
        },
        "outputId": "b71d67c7-f615-48d1-cb43-4e1358b43083"
      },
      "source": [
        "plt.clf()   # clear figure\n",
        "acc_values = history_dict['acc']\n",
        "val_acc_values = history_dict['val_acc']\n",
        "\n",
        "plt.plot(epochs, acc, 'bo', label='Training acc')\n",
        "plt.plot(epochs, val_acc, 'b', label='Validation acc')\n",
        "plt.title('Training and validation accuracy')\n",
        "plt.xlabel('Epochs')\n",
        "plt.ylabel('Loss')\n",
        "plt.legend()\n",
        "\n",
        "plt.show()"
      ],
      "execution_count": null,
      "outputs": [
        {
          "output_type": "display_data",
          "data": {
            "image/png": "[encoded data removed]",
            "text/plain": [
              "<matplotlib.figure.Figure at 0x7fd926038e48>"
            ]
          },
          "metadata": {
            "tags": []
          }
        }
      ]
    },
    {
      "cell_type": "code",
      "metadata": {
        "id": "UbBb8iiIt3BM",
        "colab": {
          "base_uri": "https://localhost:8080/",
          "height": 177
        },
        "outputId": "2c7416f6-a0ff-4d54-9ca6-3f482883593a"
      },
      "source": [
        "model = models.Sequential()\n",
        "model.add(layers.Dense(16, activation='relu', input_dim=10000))\n",
        "model.add(layers.Dense(16, activation='relu'))\n",
        "model.add(layers.Dense(1, activation='sigmoid'))\n",
        "\n",
        "model.compile(optimizer='rmsprop',\n",
        "              loss='binary_crossentropy',\n",
        "              metrics=['accuracy'])\n",
        "\n",
        "model.fit(x_train, y_train, epochs=4, batch_size=512)\n"
      ],
      "execution_count": null,
      "outputs": [
        {
          "output_type": "stream",
          "text": [
            "Epoch 1/4\n",
            "25000/25000 [==============================] - 3s 111us/step - loss: 0.4486 - acc: 0.8253\n",
            "Epoch 2/4\n",
            "25000/25000 [==============================] - 2s 96us/step - loss: 0.2575 - acc: 0.9098\n",
            "Epoch 3/4\n",
            "25000/25000 [==============================] - 2s 96us/step - loss: 0.2009 - acc: 0.9272\n",
            "Epoch 4/4\n",
            "25000/25000 [==============================] - 2s 95us/step - loss: 0.1692 - acc: 0.9391\n"
          ],
          "name": "stdout"
        },
        {
          "output_type": "execute_result",
          "data": {
            "text/plain": [
              "<keras.callbacks.History at 0x7fd925efd0f0>"
            ]
          },
          "metadata": {
            "tags": []
          },
          "execution_count": 37
        }
      ]
    },
    {
      "cell_type": "code",
      "metadata": {
        "id": "yY_MV5IguB5A",
        "colab": {
          "base_uri": "https://localhost:8080/",
          "height": 53
        },
        "outputId": "7762c2dd-a6d4-4b19-e614-d4f5789370f8"
      },
      "source": [
        "results = model.evaluate(x_test, y_test)\n",
        "print(results)"
      ],
      "execution_count": null,
      "outputs": [
        {
          "output_type": "stream",
          "text": [
            "25000/25000 [==============================] - 2s 86us/step\n",
            "[0.30035406308174134, 0.8802]\n"
          ],
          "name": "stdout"
        }
      ]
    },
    {
      "cell_type": "markdown",
      "metadata": {
        "id": "lcSOfBOkVJOd"
      },
      "source": [
        "## L2 Regularization"
      ]
    },
    {
      "cell_type": "code",
      "metadata": {
        "id": "fBgolUFYVItJ"
      },
      "source": [
        "from keras import regularizers\n",
        "\n",
        "l2_model = models.Sequential()\n",
        "l2_model.add(layers.Dense(16, kernel_regularizer=regularizers.l2(0.001),\n",
        "                          activation='relu', input_shape=(10000,)))\n",
        "l2_model.add(layers.Dense(16, kernel_regularizer=regularizers.l2(0.001),\n",
        "                          activation='relu'))\n",
        "l2_model.add(layers.Dense(1, activation='sigmoid'))\n",
        "l2_model.compile(optimizer='rmsprop',\n",
        "                 loss='binary_crossentropy',\n",
        "                 metrics=['acc'])"
      ],
      "execution_count": null,
      "outputs": []
    },
    {
      "cell_type": "code",
      "metadata": {
        "id": "MSAyi65_VUW-",
        "colab": {
          "base_uri": "https://localhost:8080/",
          "height": 745
        },
        "outputId": "f6294022-9328-452a-f763-44839f959656"
      },
      "source": [
        "l2_model_hist = l2_model.fit(x_train, y_train,\n",
        "                             epochs=20,\n",
        "                             batch_size=512,\n",
        "                             validation_data=(x_test, y_test))"
      ],
      "execution_count": null,
      "outputs": [
        {
          "output_type": "stream",
          "text": [
            "Train on 25000 samples, validate on 25000 samples\n",
            "Epoch 1/20\n",
            "25000/25000 [==============================] - 5s 182us/step - loss: 0.4808 - acc: 0.8228 - val_loss: 0.3701 - val_acc: 0.8844\n",
            "Epoch 2/20\n",
            "25000/25000 [==============================] - 4s 158us/step - loss: 0.3125 - acc: 0.9086 - val_loss: 0.3322 - val_acc: 0.8906\n",
            "Epoch 3/20\n",
            "25000/25000 [==============================] - 4s 155us/step - loss: 0.2684 - acc: 0.9232 - val_loss: 0.3332 - val_acc: 0.8869\n",
            "Epoch 4/20\n",
            "25000/25000 [==============================] - 4s 155us/step - loss: 0.2499 - acc: 0.9281 - val_loss: 0.3372 - val_acc: 0.8855\n",
            "Epoch 5/20\n",
            "25000/25000 [==============================] - 4s 156us/step - loss: 0.2402 - acc: 0.9341 - val_loss: 0.3424 - val_acc: 0.8844\n",
            "Epoch 6/20\n",
            "25000/25000 [==============================] - 4s 156us/step - loss: 0.2328 - acc: 0.9364 - val_loss: 0.3519 - val_acc: 0.8807\n",
            "Epoch 7/20\n",
            "25000/25000 [==============================] - 4s 155us/step - loss: 0.2271 - acc: 0.9379 - val_loss: 0.3607 - val_acc: 0.8781\n",
            "Epoch 8/20\n",
            "25000/25000 [==============================] - 4s 156us/step - loss: 0.2207 - acc: 0.9402 - val_loss: 0.3846 - val_acc: 0.8718\n",
            "Epoch 9/20\n",
            "25000/25000 [==============================] - 4s 156us/step - loss: 0.2157 - acc: 0.9430 - val_loss: 0.3701 - val_acc: 0.8769\n",
            "Epoch 10/20\n",
            "25000/25000 [==============================] - 4s 156us/step - loss: 0.2194 - acc: 0.9392 - val_loss: 0.3785 - val_acc: 0.8753\n",
            "Epoch 11/20\n",
            "25000/25000 [==============================] - 4s 156us/step - loss: 0.2087 - acc: 0.9460 - val_loss: 0.4054 - val_acc: 0.8691\n",
            "Epoch 12/20\n",
            "25000/25000 [==============================] - 4s 157us/step - loss: 0.2109 - acc: 0.9441 - val_loss: 0.3913 - val_acc: 0.8719\n",
            "Epoch 13/20\n",
            "25000/25000 [==============================] - 4s 157us/step - loss: 0.2059 - acc: 0.9460 - val_loss: 0.3877 - val_acc: 0.8731\n",
            "Epoch 14/20\n",
            "25000/25000 [==============================] - 4s 158us/step - loss: 0.2035 - acc: 0.9457 - val_loss: 0.3984 - val_acc: 0.8714\n",
            "Epoch 15/20\n",
            "25000/25000 [==============================] - 4s 156us/step - loss: 0.2030 - acc: 0.9459 - val_loss: 0.4126 - val_acc: 0.8699\n",
            "Epoch 16/20\n",
            "25000/25000 [==============================] - 4s 157us/step - loss: 0.2005 - acc: 0.9477 - val_loss: 0.4386 - val_acc: 0.8624\n",
            "Epoch 17/20\n",
            "25000/25000 [==============================] - 4s 156us/step - loss: 0.1982 - acc: 0.9491 - val_loss: 0.4056 - val_acc: 0.8699\n",
            "Epoch 18/20\n",
            "25000/25000 [==============================] - 4s 162us/step - loss: 0.1987 - acc: 0.9478 - val_loss: 0.4135 - val_acc: 0.8687\n",
            "Epoch 19/20\n",
            "25000/25000 [==============================] - 4s 166us/step - loss: 0.1924 - acc: 0.9513 - val_loss: 0.4684 - val_acc: 0.8563\n",
            "Epoch 20/20\n",
            "25000/25000 [==============================] - 4s 166us/step - loss: 0.1921 - acc: 0.9502 - val_loss: 0.4169 - val_acc: 0.8707\n"
          ],
          "name": "stdout"
        }
      ]
    },
    {
      "cell_type": "code",
      "metadata": {
        "id": "t1Vgrqa1WP5x",
        "colab": {
          "base_uri": "https://localhost:8080/",
          "height": 361
        },
        "outputId": "ece45984-aac2-4bd2-b268-4b0b51930ad8"
      },
      "source": [
        "l2_model_val_loss = l2_model_hist.history['val_loss']\n",
        "\n",
        "plt.plot(epochs, l2_model_val_loss, 'bo', label='L2-regularized model')\n",
        "plt.xlabel('Epochs')\n",
        "plt.ylabel('Validation loss')\n",
        "plt.legend()\n",
        "\n",
        "plt.show()"
      ],
      "execution_count": null,
      "outputs": [
        {
          "output_type": "display_data",
          "data": {
            "image/png": "[encoded data removed]",
            "text/plain": [
              "<matplotlib.figure.Figure at 0x7fd9251e6160>"
            ]
          },
          "metadata": {
            "tags": []
          }
        }
      ]
    },
    {
      "cell_type": "code",
      "metadata": {
        "id": "wgUpb3N9WWVB"
      },
      "source": [
        "dpt_model = models.Sequential()\n",
        "dpt_model.add(layers.Dense(16, activation='relu', input_shape=(10000,)))\n",
        "dpt_model.add(layers.Dropout(0.5))\n",
        "dpt_model.add(layers.Dense(16, activation='relu'))\n",
        "dpt_model.add(layers.Dropout(0.5))\n",
        "dpt_model.add(layers.Dense(1, activation='sigmoid'))\n",
        "\n",
        "dpt_model.compile(optimizer='rmsprop',\n",
        "                  loss='binary_crossentropy',\n",
        "                  metrics=['acc'])"
      ],
      "execution_count": null,
      "outputs": []
    },
    {
      "cell_type": "code",
      "metadata": {
        "id": "I2HO7T0IcSRt",
        "colab": {
          "base_uri": "https://localhost:8080/",
          "height": 745
        },
        "outputId": "8bdabced-b768-42b4-845c-b9f9c00d8e79"
      },
      "source": [
        "dpt_model_hist = dpt_model.fit(x_train, y_train,\n",
        "                               epochs=20,\n",
        "                               batch_size=512,\n",
        "                               validation_data=(x_test, y_test))"
      ],
      "execution_count": null,
      "outputs": [
        {
          "output_type": "stream",
          "text": [
            "Train on 25000 samples, validate on 25000 samples\n",
            "Epoch 1/20\n",
            "25000/25000 [==============================] - 5s 181us/step - loss: 0.5774 - acc: 0.6940 - val_loss: 0.4162 - val_acc: 0.8676\n",
            "Epoch 2/20\n",
            "25000/25000 [==============================] - 4s 158us/step - loss: 0.4180 - acc: 0.8273 - val_loss: 0.3192 - val_acc: 0.8840\n",
            "Epoch 3/20\n",
            "25000/25000 [==============================] - 4s 159us/step - loss: 0.3359 - acc: 0.8737 - val_loss: 0.2878 - val_acc: 0.8874\n",
            "Epoch 4/20\n",
            "25000/25000 [==============================] - 4s 158us/step - loss: 0.2794 - acc: 0.8994 - val_loss: 0.2757 - val_acc: 0.8896\n",
            "Epoch 5/20\n",
            "25000/25000 [==============================] - 4s 157us/step - loss: 0.2435 - acc: 0.9140 - val_loss: 0.2855 - val_acc: 0.8892\n",
            "Epoch 6/20\n",
            "25000/25000 [==============================] - 4s 156us/step - loss: 0.2141 - acc: 0.9266 - val_loss: 0.2979 - val_acc: 0.8876\n",
            "Epoch 7/20\n",
            "25000/25000 [==============================] - 4s 157us/step - loss: 0.1926 - acc: 0.9347 - val_loss: 0.3199 - val_acc: 0.8838\n",
            "Epoch 8/20\n",
            "25000/25000 [==============================] - 4s 156us/step - loss: 0.1766 - acc: 0.9402 - val_loss: 0.3285 - val_acc: 0.8837\n",
            "Epoch 9/20\n",
            "25000/25000 [==============================] - 4s 157us/step - loss: 0.1632 - acc: 0.9458 - val_loss: 0.3597 - val_acc: 0.8821\n",
            "Epoch 10/20\n",
            "25000/25000 [==============================] - 4s 157us/step - loss: 0.1501 - acc: 0.9501 - val_loss: 0.3754 - val_acc: 0.8823\n",
            "Epoch 11/20\n",
            "25000/25000 [==============================] - 4s 156us/step - loss: 0.1391 - acc: 0.9535 - val_loss: 0.3992 - val_acc: 0.8792\n",
            "Epoch 12/20\n",
            "25000/25000 [==============================] - 4s 156us/step - loss: 0.1346 - acc: 0.9556 - val_loss: 0.4272 - val_acc: 0.8786\n",
            "Epoch 13/20\n",
            "25000/25000 [==============================] - 4s 156us/step - loss: 0.1265 - acc: 0.9581 - val_loss: 0.4497 - val_acc: 0.8791\n",
            "Epoch 14/20\n",
            "25000/25000 [==============================] - 4s 156us/step - loss: 0.1234 - acc: 0.9590 - val_loss: 0.4791 - val_acc: 0.8760\n",
            "Epoch 15/20\n",
            "25000/25000 [==============================] - 4s 156us/step - loss: 0.1186 - acc: 0.9610 - val_loss: 0.4988 - val_acc: 0.8753\n",
            "Epoch 16/20\n",
            "25000/25000 [==============================] - 4s 157us/step - loss: 0.1147 - acc: 0.9615 - val_loss: 0.4974 - val_acc: 0.8739\n",
            "Epoch 17/20\n",
            "25000/25000 [==============================] - 4s 156us/step - loss: 0.1100 - acc: 0.9635 - val_loss: 0.5382 - val_acc: 0.8684\n",
            "Epoch 18/20\n",
            "25000/25000 [==============================] - 4s 156us/step - loss: 0.1087 - acc: 0.9646 - val_loss: 0.5415 - val_acc: 0.8726\n",
            "Epoch 19/20\n",
            "25000/25000 [==============================] - 4s 155us/step - loss: 0.1042 - acc: 0.9651 - val_loss: 0.5545 - val_acc: 0.8708\n",
            "Epoch 20/20\n",
            "25000/25000 [==============================] - 4s 155us/step - loss: 0.1070 - acc: 0.9634 - val_loss: 0.5844 - val_acc: 0.8679\n"
          ],
          "name": "stdout"
        }
      ]
    },
    {
      "cell_type": "code",
      "metadata": {
        "id": "vrwi4qaccZkp"
      },
      "source": [
        "dpt_model_val_loss = dpt_model_hist.history['val_loss']\n",
        "\n",
        "plt.plot(epochs, original_val_loss, 'b+', label='Original model')\n",
        "plt.plot(epochs, dpt_model_val_loss, 'bo', label='Dropout-regularized model')\n",
        "plt.xlabel('Epochs')\n",
        "plt.ylabel('Validation loss')\n",
        "plt.legend()\n",
        "\n",
        "plt.show()"
      ],
      "execution_count": null,
      "outputs": []
    }
  ]
}