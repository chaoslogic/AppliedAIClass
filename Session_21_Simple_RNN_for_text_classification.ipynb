{
  "nbformat": 4,
  "nbformat_minor": 0,
  "metadata": {
    "colab": {
      "name": "Session 21: Simple RNN for text classification.ipynb",
      "provenance": [],
      "collapsed_sections": []
    },
    "kernelspec": {
      "name": "python3",
      "display_name": "Python 3"
    },
    "accelerator": "GPU"
  },
  "cells": [
    {
      "cell_type": "markdown",
      "metadata": {
        "id": "ROwGHftd2MYz"
      },
      "source": [
        "# **Session 21: Simple RNN for text classification**\n",
        "\n",
        "\n",
        "## PY599 (Fall 2018): Applied Artificial Intelligence\n",
        "## NC State University\n",
        "###Dr. Behnam Kia\n",
        "### https://appliedai.wordpress.ncsu.edu/\n",
        "\n",
        "\n",
        "**Disclaimer**: Please note that these codes are simplified version of the algorithms, and they may not give the best, or expected performance that you could possibly get from these algorithms. The aim of this notebook is to help you understand the basics and the essence of these algorithms, and experiment with them. These basic codes are not deployment-ready or free-of-errors for real-world applications. To learn more about these algorithms please refer to text books that specifically study these algorithms, or contact me. - Behnam Kia\n",
        "\n",
        "The bulk of this code is developed by Francois Chollet, Deep Learning with Python. https://github.com/fchollet/deep-learning-with-python-notebooks  The code is modified by me for Applied AI class - Behnam Kia"
      ]
    },
    {
      "cell_type": "code",
      "metadata": {
        "id": "NRwmRPzKzegF",
        "colab": {
          "base_uri": "https://localhost:8080/",
          "height": 212
        },
        "outputId": "79ba7906-95dc-4c79-9f13-ff272219b32f"
      },
      "source": [
        "from keras.models import Sequential\n",
        "from keras.layers import Embedding, SimpleRNN\n",
        "\n",
        "model = Sequential()\n",
        "model.add(Embedding(10000, 32))\n",
        "model.add(SimpleRNN(64, return_sequences=True))\n",
        "model.summary()"
      ],
      "execution_count": null,
      "outputs": [
        {
          "output_type": "stream",
          "text": [
            "_________________________________________________________________\n",
            "Layer (type)                 Output Shape              Param #   \n",
            "=================================================================\n",
            "embedding_1 (Embedding)      (None, None, 32)          320000    \n",
            "_________________________________________________________________\n",
            "simple_rnn_1 (SimpleRNN)     (None, None, 64)          6208      \n",
            "=================================================================\n",
            "Total params: 326,208\n",
            "Trainable params: 326,208\n",
            "Non-trainable params: 0\n",
            "_________________________________________________________________\n"
          ],
          "name": "stdout"
        }
      ]
    },
    {
      "cell_type": "code",
      "metadata": {
        "id": "MYftXEffzmn7",
        "colab": {
          "base_uri": "https://localhost:8080/",
          "height": 159
        },
        "outputId": "4922fd01-10a7-4f2f-f3ee-5ee8caa9f48f"
      },
      "source": [
        "from keras.datasets import imdb\n",
        "from keras.preprocessing import sequence\n",
        "\n",
        "max_features = 10000  # number of words to consider as features\n",
        "maxlen = 500  # cut texts after this number of words (among top max_features most common words)\n",
        "\n",
        "print('Loading data...')\n",
        "(input_train, y_train), (input_test, y_test) = imdb.load_data(num_words=max_features)\n",
        "print(len(input_train), 'train sequences')\n",
        "print(len(input_test), 'test sequences')\n",
        "\n",
        "print('Pad sequences (samples x time)')\n",
        "input_train = sequence.pad_sequences(input_train, maxlen=maxlen)\n",
        "input_test = sequence.pad_sequences(input_test, maxlen=maxlen)\n",
        "print('input_train shape:', input_train.shape)\n",
        "print('input_test shape:', input_test.shape)"
      ],
      "execution_count": null,
      "outputs": [
        {
          "output_type": "stream",
          "text": [
            "Loading data...\n",
            "Downloading data from https://s3.amazonaws.com/text-datasets/imdb.npz\n",
            "17465344/17464789 [==============================] - 8s 0us/step\n",
            "25000 train sequences\n",
            "25000 test sequences\n",
            "Pad sequences (samples x time)\n",
            "input_train shape: (25000, 500)\n",
            "input_test shape: (25000, 500)\n"
          ],
          "name": "stdout"
        }
      ]
    },
    {
      "cell_type": "code",
      "metadata": {
        "id": "b-f8HFulzuZ0",
        "colab": {
          "base_uri": "https://localhost:8080/",
          "height": 390
        },
        "outputId": "56f24e34-d3ad-46bc-8c34-53a135cfbe80"
      },
      "source": [
        "from keras.layers import Dense\n",
        "\n",
        "model = Sequential()\n",
        "model.add(Embedding(max_features, 32))\n",
        "model.add(SimpleRNN(32))\n",
        "model.add(Dense(1, activation='sigmoid'))\n",
        "\n",
        "model.compile(optimizer='rmsprop', loss='binary_crossentropy', metrics=['acc'])\n",
        "history = model.fit(input_train, y_train,\n",
        "                    epochs=10,\n",
        "                    batch_size=128,\n",
        "                    validation_split=0.2)"
      ],
      "execution_count": null,
      "outputs": [
        {
          "output_type": "stream",
          "text": [
            "Train on 20000 samples, validate on 5000 samples\n",
            "Epoch 1/10\n",
            "20000/20000 [==============================] - 48s 2ms/step - loss: 0.6453 - acc: 0.6114 - val_loss: 0.6067 - val_acc: 0.6528\n",
            "Epoch 2/10\n",
            "20000/20000 [==============================] - 46s 2ms/step - loss: 0.4075 - acc: 0.8262 - val_loss: 0.4346 - val_acc: 0.7986\n",
            "Epoch 3/10\n",
            "20000/20000 [==============================] - 46s 2ms/step - loss: 0.3228 - acc: 0.8720 - val_loss: 0.4061 - val_acc: 0.8202\n",
            "Epoch 4/10\n",
            "20000/20000 [==============================] - 46s 2ms/step - loss: 0.2464 - acc: 0.9064 - val_loss: 0.3798 - val_acc: 0.8476\n",
            "Epoch 5/10\n",
            "20000/20000 [==============================] - 46s 2ms/step - loss: 0.1845 - acc: 0.9297 - val_loss: 0.3615 - val_acc: 0.8656\n",
            "Epoch 6/10\n",
            "20000/20000 [==============================] - 45s 2ms/step - loss: 0.1142 - acc: 0.9606 - val_loss: 0.4147 - val_acc: 0.8442\n",
            "Epoch 7/10\n",
            "20000/20000 [==============================] - 46s 2ms/step - loss: 0.0708 - acc: 0.9787 - val_loss: 0.5113 - val_acc: 0.8220\n",
            "Epoch 8/10\n",
            "20000/20000 [==============================] - 46s 2ms/step - loss: 0.0515 - acc: 0.9843 - val_loss: 0.5685 - val_acc: 0.8074\n",
            "Epoch 9/10\n",
            "20000/20000 [==============================] - 46s 2ms/step - loss: 0.0361 - acc: 0.9892 - val_loss: 0.6516 - val_acc: 0.7914\n",
            "Epoch 10/10\n",
            "20000/20000 [==============================] - 46s 2ms/step - loss: 0.0218 - acc: 0.9943 - val_loss: 0.7242 - val_acc: 0.8004\n"
          ],
          "name": "stdout"
        }
      ]
    },
    {
      "cell_type": "code",
      "metadata": {
        "id": "XNGpuNVxz0jP",
        "colab": {
          "base_uri": "https://localhost:8080/",
          "height": 707
        },
        "outputId": "07d951cb-5d7d-4c05-8565-9d3def7da2e6"
      },
      "source": [
        "\n",
        "\n",
        "import matplotlib.pyplot as plt\n",
        "\n",
        "acc = history.history['acc']\n",
        "val_acc = history.history['val_acc']\n",
        "loss = history.history['loss']\n",
        "val_loss = history.history['val_loss']\n",
        "\n",
        "epochs = range(len(acc))\n",
        "\n",
        "plt.plot(epochs, acc, 'bo', label='Training acc')\n",
        "plt.plot(epochs, val_acc, 'b', label='Validation acc')\n",
        "plt.title('Training and validation accuracy')\n",
        "plt.legend()\n",
        "\n",
        "plt.figure()\n",
        "\n",
        "plt.plot(epochs, loss, 'bo', label='Training loss')\n",
        "plt.plot(epochs, val_loss, 'b', label='Validation loss')\n",
        "plt.title('Training and validation loss')\n",
        "plt.legend()\n",
        "\n",
        "plt.show()\n",
        "\n"
      ],
      "execution_count": null,
      "outputs": [
        {
          "output_type": "display_data",
          "data": {
            "image/png": "[encoded data removed]",
            "text/plain": [
              "<matplotlib.figure.Figure at 0x7f9abee5aa58>"
            ]
          },
          "metadata": {
            "tags": []
          }
        },
        {
          "output_type": "display_data",
          "data": {
            "image/png": "[encoded data removed]",
            "text/plain": [
              "<matplotlib.figure.Figure at 0x7f9abb51e3c8>"
            ]
          },
          "metadata": {
            "tags": []
          }
        }
      ]
    },
    {
      "cell_type": "code",
      "metadata": {
        "id": "bwl313SgG6Hd"
      },
      "source": [
        "from keras.layers import Dense\n",
        "\n",
        "model = Sequential()\n",
        "model.add(Embedding(max_features, 32))\n",
        "model.add(SimpleRNN(32,return_sequences=True))\n",
        "model.add(SimpleRNN(32,return_sequences=True))\n",
        "model.add(SimpleRNN(32))\n",
        "\n",
        "model.add(Dense(1, activation='sigmoid'))\n",
        "\n",
        "model.compile(optimizer='rmsprop', loss='binary_crossentropy', metrics=['acc'])"
      ],
      "execution_count": null,
      "outputs": []
    },
    {
      "cell_type": "code",
      "metadata": {
        "id": "lRoy1vO1G7x-",
        "colab": {
          "base_uri": "https://localhost:8080/",
          "height": 319
        },
        "outputId": "185b4c4a-69c6-46dc-f1ce-96c3d8e48f99"
      },
      "source": [
        "model.summary()"
      ],
      "execution_count": null,
      "outputs": [
        {
          "output_type": "stream",
          "text": [
            "_________________________________________________________________\n",
            "Layer (type)                 Output Shape              Param #   \n",
            "=================================================================\n",
            "embedding_3 (Embedding)      (None, None, 32)          320000    \n",
            "_________________________________________________________________\n",
            "simple_rnn_3 (SimpleRNN)     (None, None, 32)          2080      \n",
            "_________________________________________________________________\n",
            "simple_rnn_4 (SimpleRNN)     (None, None, 32)          2080      \n",
            "_________________________________________________________________\n",
            "simple_rnn_5 (SimpleRNN)     (None, 32)                2080      \n",
            "_________________________________________________________________\n",
            "dense_2 (Dense)              (None, 1)                 33        \n",
            "=================================================================\n",
            "Total params: 326,273\n",
            "Trainable params: 326,273\n",
            "Non-trainable params: 0\n",
            "_________________________________________________________________\n"
          ],
          "name": "stdout"
        }
      ]
    },
    {
      "cell_type": "code",
      "metadata": {
        "id": "63XjmO8ziNha",
        "colab": {
          "base_uri": "https://localhost:8080/",
          "height": 390
        },
        "outputId": "cb75f0de-5c92-47c1-d6c5-1243fa427d23"
      },
      "source": [
        "history = model.fit(input_train, y_train,\n",
        "                    epochs=10,\n",
        "                    batch_size=128,\n",
        "                    validation_split=0.2)"
      ],
      "execution_count": null,
      "outputs": [
        {
          "output_type": "stream",
          "text": [
            "Train on 20000 samples, validate on 5000 samples\n",
            "Epoch 1/10\n",
            "20000/20000 [==============================] - 137s 7ms/step - loss: 0.6307 - acc: 0.6203 - val_loss: 0.4788 - val_acc: 0.7692\n",
            "Epoch 2/10\n",
            "20000/20000 [==============================] - 136s 7ms/step - loss: 0.3656 - acc: 0.8430 - val_loss: 0.3931 - val_acc: 0.8254\n",
            "Epoch 3/10\n",
            "20000/20000 [==============================] - 136s 7ms/step - loss: 0.2810 - acc: 0.8877 - val_loss: 0.4058 - val_acc: 0.8166\n",
            "Epoch 4/10\n",
            "20000/20000 [==============================] - 135s 7ms/step - loss: 0.1718 - acc: 0.9360 - val_loss: 0.4285 - val_acc: 0.8572\n",
            "Epoch 5/10\n",
            "20000/20000 [==============================] - 134s 7ms/step - loss: 0.0992 - acc: 0.9669 - val_loss: 0.6772 - val_acc: 0.7642\n",
            "Epoch 6/10\n",
            "20000/20000 [==============================] - 134s 7ms/step - loss: 0.0480 - acc: 0.9838 - val_loss: 0.6268 - val_acc: 0.8484\n",
            "Epoch 7/10\n",
            "20000/20000 [==============================] - 134s 7ms/step - loss: 0.0278 - acc: 0.9909 - val_loss: 0.7891 - val_acc: 0.7938\n",
            "Epoch 8/10\n",
            "20000/20000 [==============================] - 134s 7ms/step - loss: 0.0172 - acc: 0.9943 - val_loss: 0.8763 - val_acc: 0.8068\n",
            "Epoch 9/10\n",
            "20000/20000 [==============================] - 134s 7ms/step - loss: 0.0100 - acc: 0.9968 - val_loss: 0.9818 - val_acc: 0.8082\n",
            "Epoch 10/10\n",
            "20000/20000 [==============================] - 134s 7ms/step - loss: 0.0086 - acc: 0.9973 - val_loss: 1.0487 - val_acc: 0.7812\n"
          ],
          "name": "stdout"
        }
      ]
    },
    {
      "cell_type": "code",
      "metadata": {
        "id": "pWnjHGmx1JO6"
      },
      "source": [
        "from keras.layers import LSTM\n",
        "\n",
        "model = Sequential()\n",
        "model.add(Embedding(max_features, 32))\n",
        "model.add(LSTM(64))\n",
        "model.add(Dense(1, activation='sigmoid'))\n",
        "\n",
        "model.compile(optimizer='rmsprop',\n",
        "              loss='binary_crossentropy',\n",
        "              metrics=['acc'])"
      ],
      "execution_count": null,
      "outputs": []
    },
    {
      "cell_type": "code",
      "metadata": {
        "id": "VQ42b16b1KBK",
        "colab": {
          "base_uri": "https://localhost:8080/",
          "height": 248
        },
        "outputId": "53e93ca4-22b5-4cce-edef-45df037c71c0"
      },
      "source": [
        "model.summary()"
      ],
      "execution_count": null,
      "outputs": [
        {
          "output_type": "stream",
          "text": [
            "_________________________________________________________________\n",
            "Layer (type)                 Output Shape              Param #   \n",
            "=================================================================\n",
            "embedding_11 (Embedding)     (None, None, 32)          320000    \n",
            "_________________________________________________________________\n",
            "lstm_3 (LSTM)                (None, 64)                24832     \n",
            "_________________________________________________________________\n",
            "dense_9 (Dense)              (None, 1)                 65        \n",
            "=================================================================\n",
            "Total params: 344,897\n",
            "Trainable params: 344,897\n",
            "Non-trainable params: 0\n",
            "_________________________________________________________________\n"
          ],
          "name": "stdout"
        }
      ]
    },
    {
      "cell_type": "code",
      "metadata": {
        "id": "8zt1nmjbz6gP",
        "colab": {
          "base_uri": "https://localhost:8080/",
          "height": 390
        },
        "outputId": "1cf0298f-89e7-475e-cf9c-069dbf7905cf"
      },
      "source": [
        "\n",
        "history = model.fit(input_train, y_train,\n",
        "                    epochs=10,\n",
        "                    batch_size=128,\n",
        "                    validation_split=0.2)"
      ],
      "execution_count": null,
      "outputs": [
        {
          "output_type": "stream",
          "text": [
            "Train on 20000 samples, validate on 5000 samples\n",
            "Epoch 1/10\n",
            "20000/20000 [==============================] - 186s 9ms/step - loss: 0.5168 - acc: 0.7546 - val_loss: 0.4103 - val_acc: 0.8282\n",
            "Epoch 2/10\n",
            "20000/20000 [==============================] - 185s 9ms/step - loss: 0.2945 - acc: 0.8853 - val_loss: 0.4086 - val_acc: 0.8206\n",
            "Epoch 3/10\n",
            "20000/20000 [==============================] - 184s 9ms/step - loss: 0.2329 - acc: 0.9132 - val_loss: 0.2830 - val_acc: 0.8848\n",
            "Epoch 4/10\n",
            "20000/20000 [==============================] - 185s 9ms/step - loss: 0.1972 - acc: 0.9281 - val_loss: 0.3062 - val_acc: 0.8778\n",
            "Epoch 5/10\n",
            "20000/20000 [==============================] - 185s 9ms/step - loss: 0.1747 - acc: 0.9373 - val_loss: 0.3532 - val_acc: 0.8510\n",
            "Epoch 6/10\n",
            "20000/20000 [==============================] - 185s 9ms/step - loss: 0.1610 - acc: 0.9412 - val_loss: 0.3012 - val_acc: 0.8878\n",
            "Epoch 7/10\n",
            "20000/20000 [==============================] - 185s 9ms/step - loss: 0.1399 - acc: 0.9507 - val_loss: 0.3247 - val_acc: 0.8896\n",
            "Epoch 8/10\n",
            "20000/20000 [==============================] - 186s 9ms/step - loss: 0.1323 - acc: 0.9533 - val_loss: 0.5080 - val_acc: 0.8554\n",
            "Epoch 9/10\n",
            "20000/20000 [==============================] - 186s 9ms/step - loss: 0.1203 - acc: 0.9584 - val_loss: 0.3531 - val_acc: 0.8866\n",
            "Epoch 10/10\n",
            "20000/20000 [==============================] - 186s 9ms/step - loss: 0.1111 - acc: 0.9616 - val_loss: 0.3589 - val_acc: 0.8798\n"
          ],
          "name": "stdout"
        }
      ]
    },
    {
      "cell_type": "code",
      "metadata": {
        "id": "NHNSlsupV1MR",
        "colab": {
          "base_uri": "https://localhost:8080/",
          "height": 248
        },
        "outputId": "316a2869-283f-43e9-a8e0-d710653f972b"
      },
      "source": [
        "model.summary()"
      ],
      "execution_count": null,
      "outputs": [
        {
          "output_type": "stream",
          "text": [
            "_________________________________________________________________\n",
            "Layer (type)                 Output Shape              Param #   \n",
            "=================================================================\n",
            "embedding_4 (Embedding)      (None, None, 32)          320000    \n",
            "_________________________________________________________________\n",
            "lstm_1 (LSTM)                (None, 32)                8320      \n",
            "_________________________________________________________________\n",
            "dense_3 (Dense)              (None, 1)                 33        \n",
            "=================================================================\n",
            "Total params: 328,353\n",
            "Trainable params: 328,353\n",
            "Non-trainable params: 0\n",
            "_________________________________________________________________\n"
          ],
          "name": "stdout"
        }
      ]
    },
    {
      "cell_type": "code",
      "metadata": {
        "id": "VCw01v8LJmrg"
      },
      "source": [
        "from keras.layers import GRU\n",
        "\n",
        "model = Sequential()\n",
        "model.add(Embedding(max_features, 32))\n",
        "model.add(GRU(64))\n",
        "model.add(Dense(1, activation='sigmoid'))\n",
        "\n",
        "model.compile(optimizer='rmsprop',\n",
        "              loss='binary_crossentropy',\n",
        "              metrics=['acc'])\n"
      ],
      "execution_count": null,
      "outputs": []
    },
    {
      "cell_type": "code",
      "metadata": {
        "id": "b6XrPBortwNH",
        "colab": {
          "base_uri": "https://localhost:8080/",
          "height": 248
        },
        "outputId": "55f51d6e-6e2e-4f4d-e3b3-3f81e7efa4da"
      },
      "source": [
        "model.summary()"
      ],
      "execution_count": null,
      "outputs": [
        {
          "output_type": "stream",
          "text": [
            "_________________________________________________________________\n",
            "Layer (type)                 Output Shape              Param #   \n",
            "=================================================================\n",
            "embedding_12 (Embedding)     (None, None, 32)          320000    \n",
            "_________________________________________________________________\n",
            "gru_4 (GRU)                  (None, 64)                18624     \n",
            "_________________________________________________________________\n",
            "dense_10 (Dense)             (None, 1)                 65        \n",
            "=================================================================\n",
            "Total params: 338,689\n",
            "Trainable params: 338,689\n",
            "Non-trainable params: 0\n",
            "_________________________________________________________________\n"
          ],
          "name": "stdout"
        }
      ]
    },
    {
      "cell_type": "code",
      "metadata": {
        "id": "uL1UaiI9z90f",
        "colab": {
          "base_uri": "https://localhost:8080/",
          "height": 707
        },
        "outputId": "01a5289b-b9a0-4a87-afba-ebc51a46aa10"
      },
      "source": [
        "acc = history.history['acc']\n",
        "val_acc = history.history['val_acc']\n",
        "loss = history.history['loss']\n",
        "val_loss = history.history['val_loss']\n",
        "\n",
        "epochs = range(len(acc))\n",
        "\n",
        "plt.plot(epochs, acc, 'bo', label='Training acc')\n",
        "plt.plot(epochs, val_acc, 'b', label='Validation acc')\n",
        "plt.title('Training and validation accuracy')\n",
        "plt.legend()\n",
        "\n",
        "plt.figure()\n",
        "\n",
        "plt.plot(epochs, loss, 'bo', label='Training loss')\n",
        "plt.plot(epochs, val_loss, 'b', label='Validation loss')\n",
        "plt.title('Training and validation loss')\n",
        "plt.legend()\n",
        "\n",
        "plt.show()"
      ],
      "execution_count": null,
      "outputs": [
        {
          "output_type": "display_data",
          "data": {
            "image/png": "[encoded data removed]",
            "text/plain": [
              "<matplotlib.figure.Figure at 0x7f9ab4d35780>"
            ]
          },
          "metadata": {
            "tags": []
          }
        },
        {
          "output_type": "display_data",
          "data": {
            "image/png": "[encoded data removed]",
            "text/plain": [
              "<matplotlib.figure.Figure at 0x7f9ab4ce7390>"
            ]
          },
          "metadata": {
            "tags": []
          }
        }
      ]
    }
  ]
}