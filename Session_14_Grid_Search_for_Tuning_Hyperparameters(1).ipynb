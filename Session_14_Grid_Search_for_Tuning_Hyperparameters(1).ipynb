{
  "nbformat": 4,
  "nbformat_minor": 0,
  "metadata": {
    "colab": {
      "name": "Session 14: Grid Search for Tuning Hyperparameters.ipynb",
      "provenance": [],
      "collapsed_sections": []
    },
    "kernelspec": {
      "name": "python3",
      "display_name": "Python 3"
    }
  },
  "cells": [
    {
      "cell_type": "markdown",
      "metadata": {
        "id": "g1AMkbkmqcim"
      },
      "source": [
        "# **Session 14: Grid Search for Tuning Hyperparameters **\n",
        "\n",
        "\n",
        "## PY599 (Fall 2018): Applied Artificial Intelligence\n",
        "## NC State University\n",
        "###Dr. Behnam Kia\n",
        "### https://appliedai.wordpress.ncsu.edu/\n",
        "\n",
        "\n",
        "**Disclaimer**: Please note that these codes are simplified version of the algorithms, and they may not give the best, or expected performance that you could possibly get from these algorithms. The aim of this notebook is to help you understand the basics and the essence of these algorithms, and experiment with them. These basic codes are not deployment-ready or free-of-errors for real-world applications. To learn more about these algorithms please refer to text books that specifically study these algorithms, or contact me. - Behnam Kia\n"
      ]
    },
    {
      "cell_type": "code",
      "metadata": {
        "id": "FMt11RUkBRQb",
        "colab": {
          "base_uri": "https://localhost:8080/",
          "height": 448
        },
        "outputId": "3217661d-ceea-4195-fabc-c297e357133e"
      },
      "source": [
        "import numpy as np\n",
        "from sklearn.model_selection import cross_val_score\n",
        "from sklearn import datasets, svm  # we are imporitng the famous Support Vector Machine\n",
        "import matplotlib.pyplot as plt \n",
        "\n",
        "\n",
        "digits = datasets.load_digits()\n",
        "X_digits = digits.data\n",
        "y_digits = digits.target\n",
        "\n",
        "plt.gray() \n",
        "plt.imshow(digits.images[0]) \n",
        "plt.show()\n",
        "print(digits.target[0])\n",
        "\n",
        "\n",
        "\n",
        "\n",
        "\n",
        "svc = svm.SVC(kernel='linear')\n",
        "\n",
        "from sklearn.model_selection import GridSearchCV, cross_val_score\n",
        "\n",
        "Cs = np.logspace(-6, -1, 10)   # this is the Grid over different C values. \n",
        "                               # See http://scikit-learn.org/stable/modules/generated/sklearn.svm.SVC.html for more info on SVC and what parameter C is\n",
        "\n",
        "param_grid=dict(C=Cs)  \n",
        "clf = GridSearchCV(estimator=svc, param_grid=param_grid)    #this is where we setup the grid search.\n",
        "           \n",
        "clf.fit(X_digits[:1300], y_digits[:1300])        #this is the main code, where we fit the model to the training data for different grid points!\n",
        "\n",
        "print(\"the best score is %s\"%clf.best_score_)  \n",
        "print(\"the best parameter value that resulted in the best performance is %s\"%clf.best_estimator_.C)  \n",
        "print(\"the performance over test dats is %s\"%clf.score(X_digits[1300:], y_digits[1300:]) ) \n",
        "\n",
        "# Prediction performance on test set is not as good as on train set\n"
      ],
      "execution_count": null,
      "outputs": [
        {
          "output_type": "display_data",
          "data": {
            "image/png": "[encoded data removed]",
            "text/plain": [
              "<matplotlib.figure.Figure at 0x7f099fd690b8>"
            ]
          },
          "metadata": {
            "tags": []
          }
        },
        {
          "output_type": "stream",
          "text": [
            "0\n",
            "the best score is 0.9453846153846154\n",
            "the best parameter value that resulted in the best performance is 0.007742636826811277\n",
            "the performance over test dats is 0.937625754527163\n"
          ],
          "name": "stdout"
        }
      ]
    },
    {
      "cell_type": "markdown",
      "metadata": {
        "id": "2Vly8teerv92"
      },
      "source": [
        "## Instead of gridsearch, which exhaustively tries every combination of listed hyperparameters, random search randomly explores the hyperparmater space in order to find (near) optimal values for hyperparameters.\n",
        "see: http://scikit-learn.org/stable/modules/generated/sklearn.model_selection.RandomizedSearchCV.html"
      ]
    }
  ]
}