{
  "nbformat": 4,
  "nbformat_minor": 0,
  "metadata": {
    "colab": {
      "name": "Session 21: First Implementation of RNN.ipynb",
      "provenance": [],
      "collapsed_sections": []
    },
    "kernelspec": {
      "name": "python3",
      "display_name": "Python 3"
    }
  },
  "cells": [
    {
      "cell_type": "markdown",
      "metadata": {
        "id": "3MAowfBD2b2-"
      },
      "source": [
        "# **Session 21: First implementation of RNN **\n",
        "\n",
        "\n",
        "## PY599 (Fall 2018): Applied Artificial Intelligence\n",
        "## NC State University\n",
        "###Dr. Behnam Kia\n",
        "### https://appliedai.wordpress.ncsu.edu/\n",
        "\n",
        "\n",
        "**Disclaimer**: Please note that these codes are simplified version of the algorithms, and they may not give the best, or expected performance that you could possibly get from these algorithms. The aim of this notebook is to help you understand the basics and the essence of these algorithms, and experiment with them. These basic codes are not deployment-ready or free-of-errors for real-world applications. To learn more about these algorithms please refer to text books that specifically study these algorithms, or contact me. - Behnam Kia\n",
        "\n",
        "The bulk of this code is developed by Francois Chollet, Deep Learning with Python. https://github.com/fchollet/deep-learning-with-python-notebooks  The code is modified by me for Applied AI class - Behnam Kia\n",
        "\n",
        "MIT License\n",
        "\n",
        "Copyright (c) 2017 François Chollet\n",
        "\n",
        "Permission is hereby granted, free of charge, to any person obtaining a copy\n",
        "of this software and associated documentation files (the \"Software\"), to deal\n",
        "in the Software without restriction, including without limitation the rights\n",
        "to use, copy, modify, merge, publish, distribute, sublicense, and/or sell\n",
        "copies of the Software, and to permit persons to whom the Software is\n",
        "furnished to do so, subject to the following conditions:\n",
        "\n",
        "The above copyright notice and this permission notice shall be included in all\n",
        "copies or substantial portions of the Software."
      ]
    },
    {
      "cell_type": "code",
      "metadata": {
        "id": "fOZASQma2amZ"
      },
      "source": [
        "import numpy as np\n",
        "\n",
        "timesteps=100\n",
        "input_features=32\n",
        "output_features=64\n",
        "\n",
        "inputs=np.random.random((timesteps, input_features))\n",
        "\n",
        "state_t=np.zeros((output_features,))\n",
        "\n",
        "\n",
        "W_i=np.random.random((output_features, input_features))\n",
        "W_s=np.random.random((output_features, output_features))\n",
        "b=np.random.random((output_features,))\n",
        "\n",
        "successive_outputs=[]\n",
        "\n",
        "for input_t in inputs:\n",
        "  output_t=np.tanh(np.dot(W_i,input_t)+np.dot(W_s, state_t)+b)\n",
        "  successive_outputs.append(output_t)\n",
        "  state_t=output_t\n",
        "  \n",
        "final_output_sequence=np.concatenate(successive_outputs, axis=0)  "
      ],
      "execution_count": null,
      "outputs": []
    },
    {
      "cell_type": "code",
      "metadata": {
        "id": "TfadWxEJFhyu",
        "colab": {
          "base_uri": "https://localhost:8080/",
          "height": 35
        },
        "outputId": "6593f342-46ac-4890-a02f-1892c47b17f0"
      },
      "source": [
        "state_t.shape"
      ],
      "execution_count": null,
      "outputs": [
        {
          "output_type": "execute_result",
          "data": {
            "text/plain": [
              "(64,)"
            ]
          },
          "metadata": {
            "tags": []
          },
          "execution_count": 6
        }
      ]
    },
    {
      "cell_type": "code",
      "metadata": {
        "id": "vEmfsY3ZFjRl"
      },
      "source": [
        ""
      ],
      "execution_count": null,
      "outputs": []
    }
  ]
}