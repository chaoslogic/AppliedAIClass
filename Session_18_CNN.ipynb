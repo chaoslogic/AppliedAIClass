{
  "nbformat": 4,
  "nbformat_minor": 0,
  "metadata": {
    "colab": {
      "name": "Session 18: CNN.ipynb",
      "provenance": [],
      "collapsed_sections": []
    },
    "kernelspec": {
      "name": "python3",
      "display_name": "Python 3"
    },
    "accelerator": "GPU"
  },
  "cells": [
    {
      "cell_type": "markdown",
      "metadata": {
        "id": "S_HjN01SGz34"
      },
      "source": [
        "# **Session 18: Convolutional Neural Networks **\n",
        "\n",
        "\n",
        "## PY599 (Fall 2018): Applied Artificial Intelligence\n",
        "## NC State University\n",
        "###Dr. Behnam Kia\n",
        "### https://appliedai.wordpress.ncsu.edu/\n",
        "\n",
        "\n",
        "**Disclaimer**: Please note that these codes are simplified version of the algorithms, and they may not give the best, or expected performance that you could possibly get from these algorithms. The aim of this notebook is to help you understand the basics and the essence of these algorithms, and experiment with them. These basic codes are not deployment-ready or free-of-errors for real-world applications. To learn more about these algorithms please refer to text books that specifically study these algorithms, or contact me. - Behnam Kia"
      ]
    },
    {
      "cell_type": "markdown",
      "metadata": {
        "id": "iCOEfEOBHCtb"
      },
      "source": [
        "## Importing modules, downloading data, and preprocessing"
      ]
    },
    {
      "cell_type": "code",
      "metadata": {
        "id": "lMaTv8HBimxS"
      },
      "source": [
        "import numpy\n",
        "from keras.datasets import mnist\n",
        "from keras.models import Sequential\n",
        "from keras.layers import Dense\n",
        "from keras.layers import Dropout\n",
        "from keras.layers import Flatten\n",
        "from keras.layers.convolutional import Conv2D\n",
        "from keras.layers.convolutional import MaxPooling2D\n",
        "from keras.utils import np_utils\n",
        "from keras import backend as K\n",
        "K.set_image_dim_ordering('th')\n",
        "seed = 7\n",
        "numpy.random.seed(seed)\n",
        "(X_train, y_train), (X_test, y_test) = mnist.load_data()\n",
        "X_train = X_train.reshape(X_train.shape[0], 1, 28, 28).astype('float32')\n",
        "X_test = X_test.reshape(X_test.shape[0], 1, 28, 28).astype('float32')\n",
        "X_train = X_train / 255\n",
        "X_test = X_test / 255\n",
        "y_train = np_utils.to_categorical(y_train)\n",
        "y_test = np_utils.to_categorical(y_test)\n",
        "num_classes = y_test.shape[1]"
      ],
      "execution_count": null,
      "outputs": []
    },
    {
      "cell_type": "markdown",
      "metadata": {
        "id": "va62afLMHKVi"
      },
      "source": [
        "## Define and create CNN model"
      ]
    },
    {
      "cell_type": "code",
      "metadata": {
        "id": "bLFUvHqYivVy"
      },
      "source": [
        "\tCNN_model = Sequential()\n",
        "\tCNN_model.add(Conv2D(30, (3, 3), input_shape=(1, 28, 28), activation='relu'))\n",
        "\tCNN_model.add(MaxPooling2D(pool_size=(2, 2)))\n",
        "\tCNN_model.add(Conv2D(15, (3, 3), activation='relu'))\n",
        "\tCNN_model.add(MaxPooling2D(pool_size=(2, 2)))\n",
        "\tCNN_model.add(Flatten())\n",
        "\tCNN_model.add(Dense(128, activation='relu'))\n",
        "\tCNN_model.add(Dense(50, activation='relu'))\n",
        "\tCNN_model.add(Dense(num_classes, activation='softmax'))\n",
        "\tCNN_model.compile(loss='categorical_crossentropy', optimizer='adam', metrics=['accuracy'])"
      ],
      "execution_count": null,
      "outputs": []
    },
    {
      "cell_type": "code",
      "metadata": {
        "id": "ITUOfVDMjALi",
        "colab": {
          "base_uri": "https://localhost:8080/",
          "height": 456
        },
        "outputId": "41616075-938e-480a-a453-5607f88e651f"
      },
      "source": [
        "CNN_model.fit(X_train, y_train, epochs=10, batch_size=200, verbose=2)\n"
      ],
      "execution_count": null,
      "outputs": [
        {
          "output_type": "stream",
          "text": [
            "Epoch 1/10\n",
            " - 5s - loss: 0.3746 - acc: 0.8914\n",
            "Epoch 2/10\n",
            " - 4s - loss: 0.0939 - acc: 0.9710\n",
            "Epoch 3/10\n",
            " - 4s - loss: 0.0651 - acc: 0.9799\n",
            "Epoch 4/10\n",
            " - 4s - loss: 0.0504 - acc: 0.9844\n",
            "Epoch 5/10\n",
            " - 4s - loss: 0.0428 - acc: 0.9868\n",
            "Epoch 6/10\n",
            " - 4s - loss: 0.0368 - acc: 0.9881\n",
            "Epoch 7/10\n",
            " - 4s - loss: 0.0302 - acc: 0.9906\n",
            "Epoch 8/10\n",
            " - 4s - loss: 0.0283 - acc: 0.9909\n",
            "Epoch 9/10\n",
            " - 4s - loss: 0.0247 - acc: 0.9919\n",
            "Epoch 10/10\n",
            " - 4s - loss: 0.0218 - acc: 0.9932\n"
          ],
          "name": "stdout"
        },
        {
          "output_type": "execute_result",
          "data": {
            "text/plain": [
              "<keras.callbacks.History at 0x7f282a6faac8>"
            ]
          },
          "metadata": {
            "tags": []
          },
          "execution_count": 12
        }
      ]
    },
    {
      "cell_type": "code",
      "metadata": {
        "id": "kHA1YH46j19z",
        "colab": {
          "base_uri": "https://localhost:8080/",
          "height": 56
        },
        "outputId": "94adfe23-b071-4b5f-d9ea-c38509205aae"
      },
      "source": [
        "scores = CNN_model.evaluate(X_test, y_test, verbose=2)\n",
        "print(\"CNN Accuracy: %.2f%%\" % (scores[1]*100))"
      ],
      "execution_count": null,
      "outputs": [
        {
          "output_type": "stream",
          "text": [
            "CNN Accuracy: 98.82%\n"
          ],
          "name": "stdout"
        }
      ]
    },
    {
      "cell_type": "code",
      "metadata": {
        "id": "YFhhuIDI-pbC",
        "colab": {
          "base_uri": "https://localhost:8080/",
          "height": 425
        },
        "outputId": "9201bf1b-4237-4187-d1e2-6e17f120f618"
      },
      "source": [
        "CNN_model.summary()"
      ],
      "execution_count": null,
      "outputs": [
        {
          "output_type": "stream",
          "text": [
            "_________________________________________________________________\n",
            "Layer (type)                 Output Shape              Param #   \n",
            "=================================================================\n",
            "conv2d_1 (Conv2D)            (None, 30, 26, 26)        300       \n",
            "_________________________________________________________________\n",
            "max_pooling2d_1 (MaxPooling2 (None, 30, 13, 13)        0         \n",
            "_________________________________________________________________\n",
            "conv2d_2 (Conv2D)            (None, 15, 11, 11)        4065      \n",
            "_________________________________________________________________\n",
            "max_pooling2d_2 (MaxPooling2 (None, 15, 5, 5)          0         \n",
            "_________________________________________________________________\n",
            "flatten_1 (Flatten)          (None, 375)               0         \n",
            "_________________________________________________________________\n",
            "dense_1 (Dense)              (None, 128)               48128     \n",
            "_________________________________________________________________\n",
            "dense_2 (Dense)              (None, 50)                6450      \n",
            "_________________________________________________________________\n",
            "dense_3 (Dense)              (None, 10)                510       \n",
            "=================================================================\n",
            "Total params: 59,453\n",
            "Trainable params: 59,453\n",
            "Non-trainable params: 0\n",
            "_________________________________________________________________\n"
          ],
          "name": "stdout"
        }
      ]
    },
    {
      "cell_type": "markdown",
      "metadata": {
        "id": "TonPIU3sHR-h"
      },
      "source": [
        "## Rotating images"
      ]
    },
    {
      "cell_type": "code",
      "metadata": {
        "id": "AtenfTeCj9CS",
        "colab": {
          "base_uri": "https://localhost:8080/",
          "height": 349
        },
        "outputId": "cd98e395-f292-4161-c9ba-139b66799b59"
      },
      "source": [
        "\n",
        "\t\n",
        "from keras.datasets import mnist\n",
        "from keras.preprocessing.image import ImageDataGenerator\n",
        "from matplotlib import pyplot\n",
        "(X_train, y_train), (X_test, y_test) = mnist.load_data()\n",
        "X_train = X_train.reshape(X_train.shape[0], 1, 28, 28)\n",
        "X_test = X_test.reshape(X_test.shape[0], 1, 28, 28)\n",
        "X_train = X_train.astype('float32')\n",
        "X_test = X_test.astype('float32')\n",
        "from keras import backend as K\n",
        "K.set_image_dim_ordering('th')\n",
        "\n",
        "datagen = ImageDataGenerator(rotation_range=45)#   <======== Change roataion value here\n",
        "datagen.fit(X_test)\n",
        "\n",
        "\n",
        "for X_batch, y_batch in datagen.flow(X_test, y_test, batch_size=1000):\n",
        "\tfor i in range(0, 9):\n",
        "\t\tpyplot.subplot(330 + 1 + i)\n",
        "\t\tpyplot.imshow(X_batch[i].reshape(28, 28), cmap=pyplot.get_cmap('gray'))\n",
        "\tpyplot.show()\n",
        "\tbreak\n",
        "\n",
        "  \n",
        "  \n",
        "  \n",
        "\n",
        "\t"
      ],
      "execution_count": null,
      "outputs": [
        {
          "output_type": "display_data",
          "data": {
            "image/png": "[encoded data removed]",
            "text/plain": [
              "<matplotlib.figure.Figure at 0x7efbb68d80f0>"
            ]
          },
          "metadata": {
            "tags": []
          }
        }
      ]
    },
    {
      "cell_type": "code",
      "metadata": {
        "id": "WlOnsYlUN09C"
      },
      "source": [
        "from keras.utils import np_utils\n",
        "\n",
        "X_batch = X_batch / 255\n",
        "correct_indexes=y_batch\n",
        "y_batch = np_utils.to_categorical(y_batch)\n"
      ],
      "execution_count": null,
      "outputs": []
    },
    {
      "cell_type": "code",
      "metadata": {
        "id": "GQLSXPgWkFSi",
        "colab": {
          "base_uri": "https://localhost:8080/",
          "height": 34
        },
        "outputId": "26e2b0fa-a7ee-4fa6-911d-a343d5273ad6"
      },
      "source": [
        "import numpy as np\n",
        "\n",
        "\n",
        "scores = CNN_model.evaluate(X_batch, y_batch, verbose=0)\n",
        "Y_batch_hat = CNN_model.predict(X_batch, verbose=0)\n",
        "\n",
        "print(\"Accuracy on test data: %.2f%%\" % (scores[1]*100))"
      ],
      "execution_count": null,
      "outputs": [
        {
          "output_type": "stream",
          "text": [
            "Accuracy on test data: 86.80%\n"
          ],
          "name": "stdout"
        }
      ]
    },
    {
      "cell_type": "code",
      "metadata": {
        "id": "SpdXOCtWN5S5",
        "colab": {
          "base_uri": "https://localhost:8080/",
          "height": 505
        },
        "outputId": "ec70bf52-85ab-436e-98de-790cf7355a26"
      },
      "source": [
        "result_hat=np.argmax(Y_batch_hat,axis=1)\n",
        "\n",
        "error=0\n",
        "index=0\n",
        "\n",
        "\n",
        "while(error<9):\n",
        "  if(result_hat[index] != correct_indexes[index]):\n",
        "    print(result_hat[index])\n",
        "    pyplot.subplot(330 + 1 + error)\n",
        "    pyplot.imshow(X_batch[index].reshape(28, 28), cmap=pyplot.get_cmap('gray'))\n",
        "    error=error+1\n",
        "  index=index+1\n",
        "pyplot.show()\n"
      ],
      "execution_count": null,
      "outputs": [
        {
          "output_type": "stream",
          "text": [
            "8\n",
            "6\n",
            "2\n",
            "9\n",
            "2\n",
            "8\n",
            "8\n",
            "2\n",
            "2\n"
          ],
          "name": "stdout"
        },
        {
          "output_type": "display_data",
          "data": {
            "image/png": "[encoded data removed]",
            "text/plain": [
              "<matplotlib.figure.Figure at 0x7efbb3a394a8>"
            ]
          },
          "metadata": {
            "tags": []
          }
        }
      ]
    },
    {
      "cell_type": "markdown",
      "metadata": {
        "id": "Mn229PdQHXjE"
      },
      "source": [
        "## Translating (shifting) Images"
      ]
    },
    {
      "cell_type": "code",
      "metadata": {
        "id": "5d8Bhd3qkv9_",
        "colab": {
          "base_uri": "https://localhost:8080/",
          "height": 349
        },
        "outputId": "780a6345-9538-43d1-da3f-b6adb64a930b"
      },
      "source": [
        "\n",
        "\t\n",
        "from keras.datasets import mnist\n",
        "from keras.preprocessing.image import ImageDataGenerator\n",
        "from matplotlib import pyplot\n",
        "(X_train, y_train), (X_test, y_test) = mnist.load_data()\n",
        "X_train = X_train.reshape(X_train.shape[0], 1, 28, 28)\n",
        "X_test = X_test.reshape(X_test.shape[0], 1, 28, 28)\n",
        "X_train = X_train.astype('float32')\n",
        "X_test = X_test.astype('float32')\n",
        "from keras import backend as K\n",
        "K.set_image_dim_ordering('th')\n",
        "\n",
        "datagen = ImageDataGenerator(width_shift_range=0.1, height_shift_range=0.1)#   <======== Change shift value here\n",
        "datagen.fit(X_test)\n",
        "\n",
        "\n",
        "for X_batch, y_batch in datagen.flow(X_test, y_test, batch_size=1000):\n",
        "\tfor i in range(0, 9):\n",
        "\t\tpyplot.subplot(330 + 1 + i)\n",
        "\t\tpyplot.imshow(X_batch[i].reshape(28, 28), cmap=pyplot.get_cmap('gray'))\n",
        "\tpyplot.show()\n",
        "\tbreak\n",
        "\n",
        "  \n",
        "  \n",
        "  \n",
        "\n",
        "\t"
      ],
      "execution_count": null,
      "outputs": [
        {
          "output_type": "display_data",
          "data": {
            "image/png": "[encoded data removed]",
            "text/plain": [
              "<matplotlib.figure.Figure at 0x7efbb46522e8>"
            ]
          },
          "metadata": {
            "tags": []
          }
        }
      ]
    },
    {
      "cell_type": "code",
      "metadata": {
        "id": "_MQ_d-bJVPSZ"
      },
      "source": [
        "from keras.utils import np_utils\n",
        "\n",
        "X_batch = X_batch / 255\n",
        "correct_indexes=y_batch\n",
        "y_batch = np_utils.to_categorical(y_batch)"
      ],
      "execution_count": null,
      "outputs": []
    },
    {
      "cell_type": "code",
      "metadata": {
        "id": "3JMtCDR3kz1V",
        "colab": {
          "base_uri": "https://localhost:8080/",
          "height": 34
        },
        "outputId": "06f3a580-3d9d-462b-c1ae-2706a5d2649c"
      },
      "source": [
        "\n",
        "\n",
        "\n",
        "scores = CNN_model.evaluate(X_batch, y_batch, verbose=0)\n",
        "print(\"Accuracy on test data: %.2f%%\" % (scores[1]*100))"
      ],
      "execution_count": null,
      "outputs": [
        {
          "output_type": "stream",
          "text": [
            "Accuracy on test data: 92.50%\n"
          ],
          "name": "stdout"
        }
      ]
    }
  ]
}