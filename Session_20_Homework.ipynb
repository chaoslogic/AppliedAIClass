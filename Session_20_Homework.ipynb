{
  "nbformat": 4,
  "nbformat_minor": 0,
  "metadata": {
    "colab": {
      "name": "Session: 20: Homework.ipynb",
      "provenance": [],
      "collapsed_sections": []
    },
    "kernelspec": {
      "name": "python3",
      "display_name": "Python 3"
    },
    "accelerator": "GPU"
  },
  "cells": [
    {
      "cell_type": "markdown",
      "metadata": {
        "id": "8J_mSv5Cl8e3"
      },
      "source": [
        "## PY 599 Applied AI class: Homework\n",
        "**Due Date: Tuesday Nov 13, 3PM**\n",
        "\n",
        "There have been couple of important concepts and topics that in the class we couldn't go through in adequate details because of lack of enough time, so in this homework we review them and put them to use. Please ask questions about these topics during the class, or come and meet me during office hours."
      ]
    },
    {
      "cell_type": "markdown",
      "metadata": {
        "id": "Y3X-7-y8mWoO"
      },
      "source": [
        "## Multilayer neural network for Regression Problems \n",
        "\n",
        "\n",
        "In machine learning we can group the problems we like to solve into two groups based on the nature of the outputs: Regression Problems, where we like to predict a continuous-valued output, and classification problems where we like to determine to which category a given input belongs.\n",
        "\n",
        "In the class we used multilayer, feedforforward neural networks to solve multiple classification problems. But we never solved a regression problem with it. We used linear regression models for regression problem (house values), but not the multilayer neural network. Let’s do this in this homework. \n"
      ]
    },
    {
      "cell_type": "markdown",
      "metadata": {
        "id": "OWueVKgJAYFP"
      },
      "source": [
        "We have said this many times in the class and let’s say it one more time here again: In machine learning, training a model is different from traditional optimization. In machine learning our final goal is to train a model that performs well over unseen, new data, but we reduce and optimize the model over training data with this hope that doing so will improve the performance of the model over the test data as well. One can call this some form of indirect optimization (optimizing the model over one set of data hoping that performance measures improve over another set of (unseen) data), whereas in pure optimization, minimizing the cost function itself is a goal in and of itself. \n",
        "\n",
        "After indicating this fundamental difference between machine learning and pure optimization, let’s put our focus on optimization techniques that we use for machine learning to minimize the error over the training data.\n",
        "\n"
      ]
    },
    {
      "cell_type": "code",
      "metadata": {
        "id": "TBgi6xA0uG7B",
        "colab": {
          "base_uri": "https://localhost:8080/",
          "height": 112
        },
        "outputId": "fdf9e256-04f5-498d-e218-0eb2c40e58d0"
      },
      "source": [
        "from keras.datasets import boston_housing\n",
        "\n",
        "(x_train, y_train), (x_test, y_test) = boston_housing.load_data()\n",
        "\n",
        "# you are going to define a feedforward network pretty in the same way you defined for classification problems - except no output \n",
        "# function (no activation function on the output layer) and you you need to have the proper cost function for regression. Can\n",
        "# you remember what it was?"
      ],
      "execution_count": null,
      "outputs": [
        {
          "output_type": "stream",
          "text": [
            "Using TensorFlow backend.\n"
          ],
          "name": "stderr"
        },
        {
          "output_type": "stream",
          "text": [
            "Downloading data from https://s3.amazonaws.com/keras-datasets/boston_housing.npz\n",
            "57344/57026 [==============================] - 0s 4us/step\n"
          ],
          "name": "stdout"
        }
      ]
    },
    {
      "cell_type": "code",
      "metadata": {
        "id": "--UqnXIbs3z1",
        "colab": {
          "base_uri": "https://localhost:8080/",
          "height": 56
        },
        "outputId": "4d43fc8a-7280-457b-f7d3-1ad7d29e7691"
      },
      "source": [
        "x_train.shape"
      ],
      "execution_count": null,
      "outputs": [
        {
          "output_type": "execute_result",
          "data": {
            "text/plain": [
              "(404, 13)"
            ]
          },
          "metadata": {
            "tags": []
          },
          "execution_count": 3
        }
      ]
    },
    {
      "cell_type": "code",
      "metadata": {
        "id": "53txSypqtM8x",
        "colab": {
          "base_uri": "https://localhost:8080/",
          "height": 56
        },
        "outputId": "bde01f2a-4577-46bc-94f1-9a9727fc2b60"
      },
      "source": [
        "y_train[0]"
      ],
      "execution_count": null,
      "outputs": [
        {
          "output_type": "execute_result",
          "data": {
            "text/plain": [
              "15.2"
            ]
          },
          "metadata": {
            "tags": []
          },
          "execution_count": 5
        }
      ]
    },
    {
      "cell_type": "markdown",
      "metadata": {
        "id": "VV3-euYGlI2Z"
      },
      "source": [
        "### Momentum"
      ]
    },
    {
      "cell_type": "markdown",
      "metadata": {
        "id": "dfkOLLkw2V0_"
      },
      "source": [
        "The method of momentum is a very popular and powerful optimization technique used in learning.  Momentum stands on the shoulders of the very capable gradient descent method, and on top of it, it improves multiple shortcomings of gradient descent. The method of momemntum is introduced to accelerate learning,  especially in the face of high curviture, small but consistent gradients, or noisy gradients.\n",
        "\n",
        "The name momentum is derived from a physical analogy; consider the negative gradient of the cost function as the force. And consider the set of parameter values that we calculate during the training as a particle that is moving over the surface of the cost function according to this force.  In regular gradient descent the particle follows this gradient to find the minimum point. But there are problems. What if the cost function contours are not symmetrically scaled and they are narrower in some direction than others (poor conditioned)? \n",
        "\n",
        "![alt text](http://appliedai.wordpress.ncsu.edu/files/2018/11/Screen-Shot-2018-11-04-at-10.27.20-PM.png)\n",
        "\n",
        "In such situation the optimization path (the path particle follows) oscillates wildly and it can take a long time to reach to a good minimum point. \n",
        "What if the gradient is very small in some surface areas of the cost function (plateau) or there is a local minimum? \n",
        "\n",
        "Momentum method helps us to overcome these challenges. In momentum method, in addition to the force (the negative gradient of the cost function), we assume the particle has a momentum as well, which is built over time based on the force (negative gradients). Consider momentum as the exponentially decaying moving average of past gradients. So momentum damps down the oscillations, and it allows the particle to pass through the plateaus and shallow local minimums. \n",
        "\n",
        "For more information on momentum, please read Goodfelow’s Deep Learning Book pages 288-291, and watch Andrew Ng’s 9-minute lecture on this concept. \n",
        "https://www.youtube.com/watch?v=k8fTYJPd3_I\n",
        "Let’s add momentum to our gradient descent method we studied in the class. You might remember that the regular gradient descent was unable to get out of a local minimum. The momentum method helps us to get out of this local minimum point (but some parameters need to be tuned properly). Add the momentum to this example, run it, and see how momentum allow you to get of this local minimum point. Programing the momentum method and adding it to regular gradient descent is very easy. It requires defining a new momentum term (initialize it to zero at the beginning), and use a new additional hyperparameter to adjust the momentum term during each update. \n",
        "\n",
        "\n",
        "\n",
        "\n",
        "\n"
      ]
    },
    {
      "cell_type": "code",
      "metadata": {
        "id": "CzcSh0tk0STl",
        "colab": {
          "base_uri": "https://localhost:8080/",
          "height": 368
        },
        "outputId": "5a313071-524a-46bc-eef7-9e7e54c97818"
      },
      "source": [
        "# This is SGD without momentum. Add momentum to this code and compare the performance\n",
        "import matplotlib.pyplot as plt\n",
        "import numpy as np\n",
        "\n",
        "#this is where we define the function f. this functio nreturns back f(x)\n",
        "def non_convex_f(z):\n",
        "  return (z**4-3*z**2+2*z-2)\n",
        "\n",
        "#this function returns back the derivative of the defined the function f at different values x, i.e. it returns back df/d(x) evaluated at x.\n",
        "\n",
        "def d_non_convex_f(z):\n",
        "  return(4*z**3-6*z+2)\n",
        "\n",
        "alpha = 0.01  #step size (learning rate in context of machine learning)\n",
        "n_iterations = 20\n",
        "\n",
        "colors = plt.cm.jet(np.linspace(0,1,n_iterations))\n",
        "\n",
        "np.random.seed(seed=1)\n",
        "x = 2     #initial condition\n",
        "trajectory=np.array([x])\n",
        "\n",
        "\n",
        "plt.plot(x,non_convex_f(x),'k.')\n",
        "\n",
        "precision=0.001\n",
        "step_size=1\n",
        "iteration=0\n",
        "\n",
        "print(step_size)\n",
        "\n",
        "while (step_size > precision) & (iteration < n_iterations):\n",
        "    new_x=x-alpha*d_non_convex_f(x)\n",
        "    step_size = abs(new_x - x)\n",
        "    x=new_x\n",
        "    plt.plot(x,d_non_convex_f(x))\n",
        "    iteration=iteration+1\n",
        "    trajectory=np.append(trajectory,x)\n",
        "\n",
        "    \n",
        "\n",
        "plt.plot(trajectory,non_convex_f(trajectory),'r*')\n",
        "plt.quiver(trajectory[:-1], non_convex_f(trajectory)[:-1], trajectory[1:]-trajectory[:-1], non_convex_f(trajectory)[1:]-non_convex_f(trajectory)[:-1], scale_units='xy', angles='xy', scale=1)\n",
        "plt.axis([-5, 5, -8, 8])\n",
        "xx=np.linspace(-5,5,100)\n",
        "yy=non_convex_f(xx)\n",
        "plt.plot(xx,yy,'b')\n",
        "plt.show()"
      ],
      "execution_count": null,
      "outputs": [
        {
          "output_type": "stream",
          "text": [
            "1\n"
          ],
          "name": "stdout"
        },
        {
          "output_type": "display_data",
          "data": {
            "image/png": "[encoded data removed]",
            "text/plain": [
              "<matplotlib.figure.Figure at 0x7f6b1e47dda0>"
            ]
          },
          "metadata": {
            "tags": []
          }
        }
      ]
    },
    {
      "cell_type": "markdown",
      "metadata": {
        "id": "6Ri4zX_eB4TL"
      },
      "source": [
        "In popular deep learning frameworks and libraries, you don't have to do any programing in order to implement momentum. Many of those built-in optimizers come with momentum, you just have to enable and set the hyperparameters of the momentum (if it is not done by default). For example, see \"momentum\" parameter for SGD technique in Keras:\n",
        "https://keras.io/optimizers/#sgd"
      ]
    },
    {
      "cell_type": "markdown",
      "metadata": {
        "id": "YPaS81HNlKs4"
      },
      "source": [
        "## Nesterov Momentum"
      ]
    },
    {
      "cell_type": "markdown",
      "metadata": {
        "id": "b9FqnMjolRok"
      },
      "source": [
        "Momentum tells us to which direction the particle is heading. In regular momentum method, we evaluate the gradient at the current location and updatet he momentum, and then step forward according to the momentum. But Nesterov tells us that why not evaluate the gradient ahead according to momentum (instead of evaluating at the current location), update the momentum with this looking ahead gradient, and then step forward. This gradual, but consistent improvement over the trajectory improves the performance. Please read Nesterov momentum from Goodfellow's deep learning book, pages 291-292, update your momentum code and include Nestrerov update, and execute it again."
      ]
    },
    {
      "cell_type": "code",
      "metadata": {
        "id": "SwZPcNiAfChC"
      },
      "source": [
        "# add Nesterov Momentum to previous code"
      ],
      "execution_count": null,
      "outputs": []
    },
    {
      "cell_type": "markdown",
      "metadata": {
        "id": "qCdaGXeBsyDI"
      },
      "source": [
        "Similiar to regular momentum method, in popular deep learning frameworks and libraries, you don't have to do any programing in order to implement Nesterov momentum. Many of those built-in optimizers come with Nesterov momentum, you just have to enable it. For example, see \"nesterov\" parameter for SGD technique in Keras: https://keras.io/optimizers/#sgd"
      ]
    },
    {
      "cell_type": "markdown",
      "metadata": {
        "id": "MHE3FfXPhAkR"
      },
      "source": [
        "## SGD vs. Adam Vs. RMSprop \n",
        "\n",
        "Try Adam and RMSprop for optimizing your model, and compare their speed against the regulat SGD."
      ]
    }
  ]
}