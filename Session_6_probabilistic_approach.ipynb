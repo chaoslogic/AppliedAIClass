{
  "nbformat": 4,
  "nbformat_minor": 0,
  "metadata": {
    "colab": {
      "name": "Session 6: probabilistic approach.ipynb",
      "provenance": [],
      "collapsed_sections": []
    },
    "kernelspec": {
      "name": "python3",
      "display_name": "Python 3"
    }
  },
  "cells": [
    {
      "cell_type": "markdown",
      "metadata": {
        "id": "8JSUGX6ZweQ9"
      },
      "source": [
        "# **Session 6: Probability and Statistics for AI & Machine Learning**\n",
        "\n",
        "\n",
        "## PY599 (Fall 2018): Applied Artificial Intelligence\n",
        "## NC State University\n",
        "###Dr. Behnam Kia\n",
        "### https://appliedai.wordpress.ncsu.edu/\n",
        "\n",
        "\n",
        "**Disclaimer**: Please note that these codes are simplified version of the algorithms, and they may not give the best, or expected performance that you could possibly get from these algorithms. The aim of this notebook is to help you understand the basics and the essence of these algorithms, and experiment with them. These basic codes are not deployment-ready or free-of-errors for real-world applications. To learn more about these algorithms please refer to text books that specifically study these algorithms, or contact me. - Behnam Kia\n",
        "\n"
      ]
    },
    {
      "cell_type": "markdown",
      "metadata": {
        "id": "v5Rb7R3AwzW_"
      },
      "source": [
        "## Synthetic Training Data Preparation"
      ]
    },
    {
      "cell_type": "code",
      "metadata": {
        "id": "uSTNPi_GwZGW"
      },
      "source": [
        "import numpy as np\n",
        "import matplotlib.pyplot as plt\n",
        "\n",
        "\n",
        "mu_dog, sigma_dog = 50, 15 # mean and standard deviation\n",
        "dog_data=np.random.normal(mu_dog, sigma_dog, 2000)\n",
        "\n",
        "\n",
        "\n",
        "\n",
        "\n",
        "mu_cat, sigma_cat = 9, 3 # mean and standard deviation\n",
        "cat_data=np.random.normal(mu_cat, sigma_cat,2000)\n"
      ],
      "execution_count": null,
      "outputs": []
    },
    {
      "cell_type": "markdown",
      "metadata": {
        "id": "cSU1gjQNrrDw"
      },
      "source": [
        "## Synthetic Test Data Preparation"
      ]
    },
    {
      "cell_type": "code",
      "metadata": {
        "id": "9dgt7bxYrqTS",
        "colab": {
          "base_uri": "https://localhost:8080/",
          "height": 855
        },
        "outputId": "abb351b1-90da-4c5c-857b-7e25981ca033"
      },
      "source": [
        "test_data_x=np.zeros(200)\n",
        "test_data_y=np.zeros(200)\n",
        "\n",
        "\n",
        "\n",
        "test_data_dog=np.random.normal(mu_dog, sigma_dog, 100)\n",
        "output_dog=np.zeros(100)\n",
        "\n",
        "\n",
        "test_data_cat=np.random.normal(mu_cat, sigma_cat,100)\n",
        "output_cat=np.ones(100)\n",
        "\n",
        "test_data_x=np.append(test_data_dog,test_data_cat)\n",
        "test_data_y=np.append(output_dog,output_cat)\n",
        "\n",
        "print(test_data_x)\n",
        "print(test_data_y)"
      ],
      "execution_count": null,
      "outputs": [
        {
          "output_type": "stream",
          "text": [
            "[19.0294547  33.54095125 73.92022207 48.19550279 47.34600113 64.1099331\n",
            " 60.28567034 31.17232818 49.03601094 49.43641965 56.79374022 51.06946797\n",
            " 60.44338745 53.54938303 45.73015134 23.95007352 32.57572418 51.71796234\n",
            " 55.27715662 60.66584056 48.00987821 67.9819383  35.10353422 64.80661739\n",
            " 56.65724342 70.99872344 64.87356551 53.00794101 51.37524596 52.37073023\n",
            " 66.25297793 36.19469069 35.9244392  36.1411957  49.38823246 45.73914499\n",
            " 59.61018619 54.04568802 24.63309502 31.9856011  72.48019026 87.07763846\n",
            " 39.87769644 73.34172788 65.30827953 48.82970905 51.70212763 44.00318572\n",
            " 67.37735501 68.64266467 36.73160103 33.75029751 63.18550851 36.99743487\n",
            " 38.13969417 66.49813557 42.39346692 36.67569382 67.46119932 63.70308098\n",
            " 34.46511063 21.16330546 45.16028949 25.68440121 40.78767108 47.34884585\n",
            " 62.76485882 56.50016399 51.83913447 49.1728186  46.92624698 33.90823492\n",
            " 56.07032827 45.85044815 71.66844014 61.19619243 49.44889837 45.07372868\n",
            " 67.18192115 44.25731494 63.15082883 62.6321686  62.5835696  54.57808343\n",
            " 49.08283371 72.57457893 49.394525   46.13929722 47.26556915 42.32765611\n",
            " 36.57788398 84.30491706 74.75946624 67.57264758 46.17345589 66.91276853\n",
            " 48.70169387 27.83559928 55.40566351 32.37957568 13.37647775  5.9855738\n",
            "  7.07078277  6.76373576  5.41829724  9.2777922   8.25528406  6.06889946\n",
            " 16.22712023  7.78076277  7.73899962  6.80652161  5.87495839 10.01084415\n",
            " 12.97236011  7.18578601 11.47114797 12.46924111 10.53950444  5.68859673\n",
            "  7.10774016 11.18760792 14.10618322 11.0599717  11.4519113   8.48151164\n",
            "  4.03811689 13.44386303  9.35248386 10.62728302 10.49928942  8.1322947\n",
            "  9.22103496  5.99717039  6.38598263 12.17055317 10.63384705  9.01317714\n",
            "  5.70247081 10.47269102  6.84426252  7.25978605  2.56930059  2.963393\n",
            " 12.97316614 10.56797472  7.88391329  6.4303621  10.42722023 12.53817015\n",
            "  7.7647324   8.87434812  6.01642989  6.63379788  7.47340859  9.41701899\n",
            "  3.71004396 16.76949354  5.72552875  6.52463563  9.38147059  5.91160054\n",
            "  7.79571455  9.54397454 13.08801975 14.569653    9.64463489  6.45420522\n",
            " 11.56956577 12.34208749  9.44722654  8.38940962  7.3062641   8.72204313\n",
            " 10.25250085  8.61408172 11.4188482   5.45423025  6.81945477  6.41652447\n",
            " 10.77358582 11.69121415  1.29850453  6.27178271 13.00722635  9.09022053\n",
            "  8.39815055  7.56962003  7.13228137  8.75639477  9.52978542  7.66745263\n",
            "  8.99215372  9.94913864 11.62394031 11.99658607  9.43336339  6.80321054\n",
            "  5.51968534  8.68438324]\n",
            "[0. 0. 0. 0. 0. 0. 0. 0. 0. 0. 0. 0. 0. 0. 0. 0. 0. 0. 0. 0. 0. 0. 0. 0.\n",
            " 0. 0. 0. 0. 0. 0. 0. 0. 0. 0. 0. 0. 0. 0. 0. 0. 0. 0. 0. 0. 0. 0. 0. 0.\n",
            " 0. 0. 0. 0. 0. 0. 0. 0. 0. 0. 0. 0. 0. 0. 0. 0. 0. 0. 0. 0. 0. 0. 0. 0.\n",
            " 0. 0. 0. 0. 0. 0. 0. 0. 0. 0. 0. 0. 0. 0. 0. 0. 0. 0. 0. 0. 0. 0. 0. 0.\n",
            " 0. 0. 0. 0. 1. 1. 1. 1. 1. 1. 1. 1. 1. 1. 1. 1. 1. 1. 1. 1. 1. 1. 1. 1.\n",
            " 1. 1. 1. 1. 1. 1. 1. 1. 1. 1. 1. 1. 1. 1. 1. 1. 1. 1. 1. 1. 1. 1. 1. 1.\n",
            " 1. 1. 1. 1. 1. 1. 1. 1. 1. 1. 1. 1. 1. 1. 1. 1. 1. 1. 1. 1. 1. 1. 1. 1.\n",
            " 1. 1. 1. 1. 1. 1. 1. 1. 1. 1. 1. 1. 1. 1. 1. 1. 1. 1. 1. 1. 1. 1. 1. 1.\n",
            " 1. 1. 1. 1. 1. 1. 1. 1.]\n"
          ],
          "name": "stdout"
        }
      ]
    },
    {
      "cell_type": "markdown",
      "metadata": {
        "id": "kFAC4HNgrZ93"
      },
      "source": [
        "## Estimating P(W|Dog) and P(W|Cat) from training data"
      ]
    },
    {
      "cell_type": "code",
      "metadata": {
        "id": "L1FSQyx0rOln",
        "colab": {
          "base_uri": "https://localhost:8080/",
          "height": 768
        },
        "outputId": "c5349d3f-fd52-408f-cfa1-bc0ecd9c4105"
      },
      "source": [
        "plt.hist(dog_data, bins=np.arange(1,100,2),density=True)\n",
        "hist_dog, bin_edges_dog = np.histogram(dog_data, bins=np.arange(1,100,1),density=True)\n",
        "plt.title(\"p(W|Dog)\")\n",
        "plt.show()\n",
        "\n",
        "\n",
        "plt.hist(cat_data, bins=np.arange(1,100,1),density=True)\n",
        "hist_cat, bin_edges_cat = np.histogram(cat_data, bins=np.arange(1,100,1),density=True)\n",
        "\n",
        "plt.title(\"p(W|Cat)\")\n",
        "\n",
        "plt.show()"
      ],
      "execution_count": null,
      "outputs": [
        {
          "output_type": "display_data",
          "data": {
            "image/png": "[encoded data removed]",
            "text/plain": [
              "<matplotlib.figure.Figure at 0x7fa4ca7d7400>"
            ]
          },
          "metadata": {
            "tags": []
          }
        },
        {
          "output_type": "display_data",
          "data": {
            "image/png": "[encoded data removed]",
            "text/plain": [
              "<matplotlib.figure.Figure at 0x7fa4cd16ff60>"
            ]
          },
          "metadata": {
            "tags": []
          }
        }
      ]
    },
    {
      "cell_type": "markdown",
      "metadata": {
        "id": "Vo1hJYd270uf"
      },
      "source": [
        "## Posterior Calculation\n",
        "**Let's assume the priors are as following**:\n",
        "P(Cat)=0.75\n",
        "P(Dog)=0.25\n",
        "\n",
        "We are in a neighborhood with many feral cats, but with fewer dogs.\n",
        "\n",
        "P(Cat|W)=P(W|Cat)P(Cat)/P(W)\n",
        "\n",
        "P(Dog|W)=P(W|Dog)P(Dog)/P(W)\n",
        "\n",
        "\n",
        "P(W)=P(W|Cat)P(Cat)+P(W|Dog)P(Dog)\n",
        "\n",
        "Programing hint: \n",
        "\n",
        "P(W|Cat)=hist_cat(math.ceil(W)]\n",
        "\n",
        "P(W|Dog)=Dog_likelihood=hist_dog[(np.int16(np.ceil(cat_data_test)))]\n",
        "\n",
        "## The denominators are the same for both P(Cat|W) and P(Dog|W). And we are only interested in which Posterior is greater, P(Cat|W) or P(Dog|W). So for simplicty we are dropping the denominators. We are still callign the right hand sides Posteriors, P(Cat|W) and P(Dog|W). But technically speaking they are not.\n",
        "\n"
      ]
    },
    {
      "cell_type": "code",
      "metadata": {
        "id": "AUuimOd88h40",
        "colab": {
          "base_uri": "https://localhost:8080/",
          "height": 181
        },
        "outputId": "4e8db22a-7b6f-4770-8304-f252f72208d2"
      },
      "source": [
        "y_hat=np.zeros(200)\n",
        "Cat_prior=0.75\n",
        "Dog_prior=0.25\n",
        "Dog_likelihood=hist_dog[(np.int16(np.ceil(test_data_x)))]\n",
        "Cat_likelihood=hist_cat[(np.int16(np.ceil(test_data_x)))]\n",
        "\n",
        "Cat_posterior=Cat_likelihood*Cat_prior\n",
        "Dog_posterior=Dog_likelihood*Dog_prior\n",
        "\n",
        "for i in range(0,200):\n",
        "  if Cat_posterior[i]>Dog_posterior[i]:\n",
        "    y_hat[i]=1\n",
        "  else:\n",
        "    y_hat[i]=0\n",
        "    \n",
        "    \n",
        "print(y_hat)\n",
        "    \n",
        "  \n",
        "  \n",
        "print(sum(1 for i, j in zip(test_data_y, y_hat) if i != j))\n",
        "\n",
        "\n",
        "    \n",
        "    \n",
        "\n",
        "\n",
        "\n"
      ],
      "execution_count": null,
      "outputs": [
        {
          "output_type": "stream",
          "text": [
            "[0. 0. 0. 0. 0. 0. 0. 0. 0. 0. 0. 0. 0. 0. 0. 0. 0. 0. 0. 0. 0. 0. 0. 0.\n",
            " 0. 0. 0. 0. 0. 0. 0. 0. 0. 0. 0. 0. 0. 0. 0. 0. 0. 0. 0. 0. 0. 0. 0. 0.\n",
            " 0. 0. 0. 0. 0. 0. 0. 0. 0. 0. 0. 0. 0. 0. 0. 0. 0. 0. 0. 0. 0. 0. 0. 0.\n",
            " 0. 0. 0. 0. 0. 0. 0. 0. 0. 0. 0. 0. 0. 0. 0. 0. 0. 0. 0. 0. 0. 0. 0. 0.\n",
            " 0. 0. 0. 0. 1. 1. 1. 1. 1. 1. 1. 1. 1. 1. 1. 1. 1. 1. 1. 1. 1. 1. 1. 1.\n",
            " 1. 1. 1. 1. 1. 1. 1. 1. 1. 1. 1. 1. 1. 1. 1. 1. 1. 1. 1. 1. 1. 1. 1. 1.\n",
            " 1. 1. 1. 1. 1. 1. 1. 1. 1. 1. 1. 1. 1. 1. 1. 1. 1. 1. 1. 1. 1. 1. 1. 1.\n",
            " 1. 1. 1. 1. 1. 1. 1. 1. 1. 1. 1. 1. 1. 1. 1. 1. 1. 1. 1. 1. 1. 1. 1. 1.\n",
            " 1. 1. 1. 1. 1. 1. 1. 1.]\n",
            "0\n"
          ],
          "name": "stdout"
        }
      ]
    }
  ]
}