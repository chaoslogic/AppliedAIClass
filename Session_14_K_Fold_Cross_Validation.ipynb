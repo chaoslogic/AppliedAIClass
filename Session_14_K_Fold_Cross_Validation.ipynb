{
  "nbformat": 4,
  "nbformat_minor": 0,
  "metadata": {
    "colab": {
      "name": "Session 14: K-Fold Cross Validation.ipynb",
      "provenance": [],
      "collapsed_sections": []
    },
    "kernelspec": {
      "name": "python3",
      "display_name": "Python 3"
    }
  },
  "cells": [
    {
      "cell_type": "markdown",
      "metadata": {
        "id": "lDdAy8ngeIsT"
      },
      "source": [
        "# **Session 14: K-Fold Cross Validation**\n",
        "\n",
        "\n",
        "## PY599 (Fall 2018): Applied Artificial Intelligence\n",
        "## NC State University\n",
        "###Dr. Behnam Kia\n",
        "### https://appliedai.wordpress.ncsu.edu/\n",
        "\n",
        "\n",
        "**Disclaimer**: Please note that these codes are simplified version of the algorithms, and they may not give the best, or expected performance that you could possibly get from these algorithms. The aim of this notebook is to help you understand the basics and the essence of these algorithms, and experiment with them. These basic codes are not deployment-ready or free-of-errors for real-world applications. To learn more about these algorithms please refer to text books that specifically study these algorithms, or contact me. - Behnam Kia"
      ]
    },
    {
      "cell_type": "markdown",
      "metadata": {
        "id": "14-bcsvBwjTD"
      },
      "source": [
        "\n",
        "### K-fold: Provides train/test indices to split data in train/test sets. Split dataset into k consecutive folds (without shuffling by default).\n",
        "\n"
      ]
    },
    {
      "cell_type": "code",
      "metadata": {
        "colab": {
          "base_uri": "https://localhost:8080/",
          "height": 108
        },
        "id": "YxjFRxTneZ27",
        "outputId": "dac3fec6-8417-4e76-8701-a4ecc77e7779"
      },
      "source": [
        "# example is from SKlearn's website: http://scikit-learn.org/stable/modules/generated/sklearn.model_selection.KFold.html\n",
        "\n",
        "import numpy as np  \n",
        "from sklearn.model_selection import KFold\n",
        "X = np.array([0.1, 0.2, 0.3, 0.4, 0.5, 0.6, 0.7, 0.8])\n",
        "y = np.array([1, 2, 3, 4, 5, 6, 7, 8])\n",
        "\n",
        "kf = KFold(n_splits=4)           #KFold(n_splits=’warn’, shuffle=False, random_state=None)\n",
        "\n",
        "\n",
        "for train_index, validation_index in kf.split(X):\n",
        "   print(\"TRAIN:\", X[train_index], \"VALIDATION:\", X[validation_index])\n",
        "   X_train, X_validation = X[train_index], X[validation_index]\n",
        "   y_train, y_validation = y[train_index], y[validation_index]"
      ],
      "execution_count": null,
      "outputs": [
        {
          "output_type": "stream",
          "text": [
            "TRAIN: [0.3 0.4 0.5 0.6 0.7 0.8] VALIDATION: [0.1 0.2]\n",
            "TRAIN: [0.1 0.2 0.5 0.6 0.7 0.8] VALIDATION: [0.3 0.4]\n",
            "TRAIN: [0.1 0.2 0.3 0.4 0.7 0.8] VALIDATION: [0.5 0.6]\n",
            "TRAIN: [0.1 0.2 0.3 0.4 0.5 0.6] VALIDATION: [0.7 0.8]\n"
          ],
          "name": "stdout"
        }
      ]
    },
    {
      "cell_type": "markdown",
      "metadata": {
        "id": "TmnXjChrxH0Q"
      },
      "source": [
        "### Trains and valuates a model by cross-validation"
      ]
    },
    {
      "cell_type": "code",
      "metadata": {
        "id": "bOqGSNPpwRyK",
        "colab": {
          "base_uri": "https://localhost:8080/",
          "height": 35
        },
        "outputId": "722325f0-6349-4d50-f598-a40b0f9f2c9c"
      },
      "source": [
        "#Example is from SKLearn's website. Please see http://scikit-learn.org/stable/modules/generated/sklearn.model_selection.cross_val_score.html\n",
        "from sklearn import datasets, linear_model\n",
        "from sklearn.model_selection import cross_val_score\n",
        "diabetes = datasets.load_diabetes()\n",
        "X = diabetes.data[:150]\n",
        "y = diabetes.target[:150]\n",
        "lasso = linear_model.Lasso()\n",
        "print(cross_val_score(lasso, X, y, cv=6))"
      ],
      "execution_count": null,
      "outputs": [
        {
          "output_type": "stream",
          "text": [
            "[0.38005834 0.2867957  0.13822889 0.07329585 0.14666646 0.15255115]\n"
          ],
          "name": "stdout"
        }
      ]
    }
  ]
}