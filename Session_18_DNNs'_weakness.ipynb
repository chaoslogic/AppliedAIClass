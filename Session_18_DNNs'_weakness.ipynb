{
  "nbformat": 4,
  "nbformat_minor": 0,
  "metadata": {
    "colab": {
      "name": "Session 18: DNNs' weakness.ipynb",
      "provenance": [],
      "collapsed_sections": []
    },
    "kernelspec": {
      "name": "python3",
      "display_name": "Python 3"
    }
  },
  "cells": [
    {
      "cell_type": "markdown",
      "metadata": {
        "id": "TaZ9qDErIQGr"
      },
      "source": [
        "# **Session 18: DNNs are not rubsut to rotation or shift of input images **\n",
        "\n",
        "\n",
        "## PY599 (Fall 2018): Applied Artificial Intelligence\n",
        "## NC State University\n",
        "###Dr. Behnam Kia\n",
        "### https://appliedai.wordpress.ncsu.edu/\n",
        "\n",
        "\n",
        "**Disclaimer**: Please note that these codes are simplified version of the algorithms, and they may not give the best, or expected performance that you could possibly get from these algorithms. The aim of this notebook is to help you understand the basics and the essence of these algorithms, and experiment with them. These basic codes are not deployment-ready or free-of-errors for real-world applications. To learn more about these algorithms please refer to text books that specifically study these algorithms, or contact me. - Behnam Kia"
      ]
    },
    {
      "cell_type": "code",
      "metadata": {
        "id": "8pg5RUb7pnhw",
        "colab": {
          "base_uri": "https://localhost:8080/",
          "height": 67
        },
        "outputId": "effe6086-7bb7-42f5-958d-d445b33c76e1"
      },
      "source": [
        "from keras.datasets import mnist\n",
        "import matplotlib.pyplot as plt\n",
        "import numpy\n",
        "from keras.models import Sequential\n",
        "from keras.layers import Dense\n",
        "from keras.layers import Dropout\n",
        "from keras.utils import np_utils\n",
        "\n",
        "seed = 7\n",
        "numpy.random.seed(seed)\n",
        "(X_train, Y_train), (X_test, Y_test) = mnist.load_data()\n"
      ],
      "execution_count": null,
      "outputs": [
        {
          "output_type": "stream",
          "text": [
            "Using TensorFlow backend.\n"
          ],
          "name": "stderr"
        },
        {
          "output_type": "stream",
          "text": [
            "Downloading data from https://s3.amazonaws.com/img-datasets/mnist.npz\n",
            "11493376/11490434 [==============================] - 0s 0us/step\n"
          ],
          "name": "stdout"
        }
      ]
    },
    {
      "cell_type": "code",
      "metadata": {
        "id": "-63M1E9Yr65J",
        "colab": {
          "base_uri": "https://localhost:8080/",
          "height": 349
        },
        "outputId": "14210b0d-5de6-4d3b-d688-e7f6e21ac14e"
      },
      "source": [
        "from matplotlib import pyplot\n",
        "for i in range(0, 9):\n",
        "\tpyplot.subplot(330 + 1 + i)\n",
        "\tpyplot.imshow(X_train[i], cmap=pyplot.get_cmap('gray'))\n",
        "# show the plot\n",
        "pyplot.show()"
      ],
      "execution_count": null,
      "outputs": [
        {
          "output_type": "display_data",
          "data": {
            "image/png": "[encoded data removed]",
            "text/plain": [
              "<matplotlib.figure.Figure at 0x7f6cb5d9afd0>"
            ]
          },
          "metadata": {
            "tags": []
          }
        }
      ]
    },
    {
      "cell_type": "code",
      "metadata": {
        "id": "LozxtKHOsaal"
      },
      "source": [
        "num_of_pixels = X_train.shape[1] * X_train.shape[2]\n",
        "X_train = X_train.reshape(X_train.shape[0], num_of_pixels).astype('float32')\n",
        "X_test = X_test.reshape(X_test.shape[0], num_of_pixels).astype('float32')\n",
        "X_train = X_train / 255\n",
        "X_test = X_test / 255\n",
        "Y_train = np_utils.to_categorical(Y_train)\n",
        "Y_test = np_utils.to_categorical(Y_test)\n",
        "num_classes = Y_test.shape[1]"
      ],
      "execution_count": null,
      "outputs": []
    },
    {
      "cell_type": "code",
      "metadata": {
        "id": "db9LC8ARpz21",
        "colab": {
          "base_uri": "https://localhost:8080/",
          "height": 513
        },
        "outputId": "9cff6fb8-3868-4ce2-b296-35d4d2380514"
      },
      "source": [
        "my_model = Sequential()\n",
        "my_model.add(Dense(100, input_dim=num_of_pixels, activation='relu'))\n",
        "my_model.add(Dense(num_classes, activation='softmax'))\n",
        "my_model.compile(loss='categorical_crossentropy', optimizer='adam', metrics=['accuracy'])\n",
        "\n",
        "performance_over_epochs_overfitting_model=my_model.fit(X_train, Y_train, epochs=15, batch_size=100, verbose=2)\n"
      ],
      "execution_count": null,
      "outputs": [
        {
          "output_type": "stream",
          "text": [
            "Epoch 1/15\n",
            " - 4s - loss: 0.3590 - acc: 0.8995\n",
            "Epoch 2/15\n",
            " - 3s - loss: 0.1695 - acc: 0.9514\n",
            "Epoch 3/15\n",
            " - 3s - loss: 0.1233 - acc: 0.9651\n",
            "Epoch 4/15\n",
            " - 3s - loss: 0.0967 - acc: 0.9719\n",
            "Epoch 5/15\n",
            " - 3s - loss: 0.0789 - acc: 0.9778\n",
            "Epoch 6/15\n",
            " - 3s - loss: 0.0657 - acc: 0.9813\n",
            "Epoch 7/15\n",
            " - 3s - loss: 0.0562 - acc: 0.9836\n",
            "Epoch 8/15\n",
            " - 3s - loss: 0.0473 - acc: 0.9867\n",
            "Epoch 9/15\n",
            " - 3s - loss: 0.0405 - acc: 0.9884\n",
            "Epoch 10/15\n",
            " - 3s - loss: 0.0348 - acc: 0.9903\n",
            "Epoch 11/15\n",
            " - 3s - loss: 0.0301 - acc: 0.9916\n",
            "Epoch 12/15\n",
            " - 3s - loss: 0.0261 - acc: 0.9929\n",
            "Epoch 13/15\n",
            " - 3s - loss: 0.0227 - acc: 0.9938\n",
            "Epoch 14/15\n",
            " - 3s - loss: 0.0196 - acc: 0.9952\n",
            "Epoch 15/15\n",
            " - 3s - loss: 0.0164 - acc: 0.9962\n"
          ],
          "name": "stdout"
        }
      ]
    },
    {
      "cell_type": "markdown",
      "metadata": {
        "id": "8QM5_8jqIGyW"
      },
      "source": [
        "## Rotation"
      ]
    },
    {
      "cell_type": "code",
      "metadata": {
        "id": "f5g5vMUgd9RZ",
        "colab": {
          "base_uri": "https://localhost:8080/",
          "height": 349
        },
        "outputId": "1e9fd9ee-92d4-46a8-82a7-cd5d2abec5aa"
      },
      "source": [
        "\n",
        "\t\n",
        "from keras.datasets import mnist\n",
        "from keras.preprocessing.image import ImageDataGenerator\n",
        "from matplotlib import pyplot\n",
        "(X_train, y_train), (X_test, y_test) = mnist.load_data()\n",
        "X_train = X_train.reshape(X_train.shape[0], 1, 28, 28)\n",
        "X_test = X_test.reshape(X_test.shape[0], 1, 28, 28)\n",
        "X_train = X_train.astype('float32')\n",
        "X_test = X_test.astype('float32')\n",
        "from keras import backend as K\n",
        "K.set_image_dim_ordering('th')\n",
        "\n",
        "datagen = ImageDataGenerator(rotation_range=45)#   <======== Change roataion value here\n",
        "datagen.fit(X_test)\n",
        "\n",
        "\n",
        "for X_batch, y_batch in datagen.flow(X_test, y_test, batch_size=1000):\n",
        "\tfor i in range(0, 9):\n",
        "\t\tpyplot.subplot(330 + 1 + i)\n",
        "\t\tpyplot.imshow(X_batch[i].reshape(28, 28), cmap=pyplot.get_cmap('gray'))\n",
        "\tpyplot.show()\n",
        "\tbreak\n",
        "\n",
        "  \n",
        "  \n",
        "  \n",
        "\n",
        "\t"
      ],
      "execution_count": null,
      "outputs": [
        {
          "output_type": "display_data",
          "data": {
            "image/png": "[encoded data removed]",
            "text/plain": [
              "<matplotlib.figure.Figure at 0x7f6cb57e2710>"
            ]
          },
          "metadata": {
            "tags": []
          }
        }
      ]
    },
    {
      "cell_type": "code",
      "metadata": {
        "id": "0-Bxvydnr5LY"
      },
      "source": [
        "X_batch = X_batch.reshape(y_batch.shape[0], num_of_pixels).astype('float32')\n",
        "X_batch = X_batch / 255\n",
        "y_batch = np_utils.to_categorical(y_batch)\n",
        "\n",
        "\n"
      ],
      "execution_count": null,
      "outputs": []
    },
    {
      "cell_type": "code",
      "metadata": {
        "id": "nPVfvFaKVluS",
        "colab": {
          "base_uri": "https://localhost:8080/",
          "height": 34
        },
        "outputId": "b5176632-2b5f-45d6-a287-19a9addd9f35"
      },
      "source": [
        "scores = my_model.evaluate(X_batch, y_batch, verbose=0)\n",
        "print(\"Accuracy on test data: %.2f%%\" % (scores[1]*100))"
      ],
      "execution_count": null,
      "outputs": [
        {
          "output_type": "stream",
          "text": [
            "Accuracy on test data: 78.50%\n"
          ],
          "name": "stdout"
        }
      ]
    },
    {
      "cell_type": "markdown",
      "metadata": {
        "id": "b87PMALGIKiv"
      },
      "source": [
        "## Translation (shifting) of input images"
      ]
    },
    {
      "cell_type": "code",
      "metadata": {
        "id": "v2cI-FyRhiyd",
        "colab": {
          "base_uri": "https://localhost:8080/",
          "height": 349
        },
        "outputId": "bc6592e3-efa5-4460-ce15-31abf57de989"
      },
      "source": [
        "\n",
        "\t\n",
        "from keras.datasets import mnist\n",
        "from keras.preprocessing.image import ImageDataGenerator\n",
        "from matplotlib import pyplot\n",
        "(X_train, y_train), (X_test, y_test) = mnist.load_data()\n",
        "X_train = X_train.reshape(X_train.shape[0], 1, 28, 28)\n",
        "X_test = X_test.reshape(X_test.shape[0], 1, 28, 28)\n",
        "X_train = X_train.astype('float32')\n",
        "X_test = X_test.astype('float32')\n",
        "from keras import backend as K\n",
        "K.set_image_dim_ordering('th')\n",
        "\n",
        "datagen = ImageDataGenerator(width_shift_range=0.2, height_shift_range=0)#   <======== Change shift value here\n",
        "datagen.fit(X_test)\n",
        "\n",
        "\n",
        "for X_batch, y_batch in datagen.flow(X_test, y_test, batch_size=1000):\n",
        "\tfor i in range(0, 9):\n",
        "\t\tpyplot.subplot(330 + 1 + i)\n",
        "\t\tpyplot.imshow(X_batch[i].reshape(28, 28), cmap=pyplot.get_cmap('gray'))\n",
        "\tpyplot.show()\n",
        "\tbreak\n",
        "\n",
        "  \n",
        "  \n",
        "  \n",
        "\n",
        "\t"
      ],
      "execution_count": null,
      "outputs": [
        {
          "output_type": "display_data",
          "data": {
            "image/png": "[encoded data removed]",
            "text/plain": [
              "<matplotlib.figure.Figure at 0x7f6cb57e25f8>"
            ]
          },
          "metadata": {
            "tags": []
          }
        }
      ]
    },
    {
      "cell_type": "code",
      "metadata": {
        "id": "-VLqwA4gh8zO"
      },
      "source": [
        "X_batch = X_batch.reshape(y_batch.shape[0], num_of_pixels).astype('float32')\n",
        "X_batch = X_batch / 255\n",
        "y_batch = np_utils.to_categorical(y_batch)\n",
        "\n",
        "\n"
      ],
      "execution_count": null,
      "outputs": []
    },
    {
      "cell_type": "code",
      "metadata": {
        "id": "MvFpCAfKV2Eq",
        "colab": {
          "base_uri": "https://localhost:8080/",
          "height": 34
        },
        "outputId": "4f73a646-b455-4fe8-9148-96e58997b2cd"
      },
      "source": [
        "scores = my_model.evaluate(X_batch, y_batch, verbose=0)\n",
        "print(\"Accuracy on test data: %.2f%%\" % (scores[1]*100))"
      ],
      "execution_count": null,
      "outputs": [
        {
          "output_type": "stream",
          "text": [
            "Accuracy on test data: 66.30%\n"
          ],
          "name": "stdout"
        }
      ]
    }
  ]
}